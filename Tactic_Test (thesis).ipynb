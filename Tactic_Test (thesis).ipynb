{
 "cells": [
  {
   "cell_type": "markdown",
   "metadata": {},
   "source": [
    "# IEEE ICME 2022 Accepted"
   ]
  },
  {
   "cell_type": "markdown",
   "metadata": {},
   "source": [
    "# Importation"
   ]
  },
  {
   "cell_type": "code",
   "execution_count": 1,
   "metadata": {
    "executionInfo": {
     "elapsed": 297,
     "status": "ok",
     "timestamp": 1628006965489,
     "user": {
      "displayName": "趙仰生",
      "photoUrl": "https://lh3.googleusercontent.com/a-/AOh14GiyPpyNRma6KPgIkasnLrkJdAyUt6KrCPhbboIBAg=s64",
      "userId": "00937645575279213956"
     },
     "user_tz": -480
    },
    "id": "-BS49VwiJ2gr"
   },
   "outputs": [],
   "source": [
    "import torch\n",
    "import torch.nn as nn\n",
    "import torch.nn.functional as F\n",
    "import torch.optim as optim\n",
    "from torch.utils.data import DataLoader\n",
    "from torch.utils.data import TensorDataset\n",
    "import pandas as pd\n",
    "import numpy as np\n",
    "from scipy import signal\n",
    "from sklearn.model_selection import train_test_split\n",
    "import os\n",
    "import matplotlib.pyplot as plt\n",
    "import matplotlib.animation as animation\n",
    "import matplotlib.image as mpimg\n",
    "from sklearn.utils import shuffle\n",
    "from sklearn import manifold\n",
    "from sklearn.cluster import KMeans\n",
    "device = torch.device(\"cuda\" if torch.cuda.is_available() else \"cpu\")"
   ]
  },
  {
   "cell_type": "markdown",
   "metadata": {},
   "source": [
    "# Get Player Trajectory Data"
   ]
  },
  {
   "cell_type": "code",
   "execution_count": 2,
   "metadata": {},
   "outputs": [],
   "source": [
    "def GetNBAdata(project_root = ''):\n",
    "    test_data = torch.load(project_root + 'data/position_inorder.pt')\n",
    "    Category = torch.load(project_root + 'data/category.pt')\n",
    "    Category = Category.numpy().astype(\"int32\")\n",
    "    test_data = np.mean(test_data.numpy()[:,0:250].reshape(134,50,5,10), 2)\n",
    "    NBA_data = test_data[:,:,[0,1]].reshape(134,-1,1,2)\n",
    "    NBA_data = np.concatenate((NBA_data,test_data[:,:,[2,3]].reshape(134,-1,1,2)),2)\n",
    "    NBA_data = np.concatenate((NBA_data,test_data[:,:,[4,5]].reshape(134,-1,1,2)),2)\n",
    "    NBA_data = np.concatenate((NBA_data,test_data[:,:,[6,7]].reshape(134,-1,1,2)),2)\n",
    "    NBA_data = np.concatenate((NBA_data,test_data[:,:,[8,9]].reshape(134,-1,1,2)),2)\n",
    "    max2_x = np.max(NBA_data[:,:,:,0])\n",
    "    max2_y = np.max(NBA_data[:,:,:,1])\n",
    "    min2_x = np.min(NBA_data[:,:,:,0])\n",
    "    min2_y = np.min(NBA_data[:,:,:,1])\n",
    "    NBA_data[:,:,:,0] = 2 * ((NBA_data[:,:,:,0] - min2_x) / (max2_x - min2_x)) - 1\n",
    "    NBA_data[:,:,:,1] = 2 * ((NBA_data[:,:,:,1] - min2_y) / (max2_y - min2_y)) - 1\n",
    "    \n",
    "    Offense_data = []\n",
    "    another_team = 0\n",
    "    bigger_dataset = 0\n",
    "    \n",
    "    for k in range(5):\n",
    "        Offense_data_tmp = []\n",
    "        for j in range(134):\n",
    "            for i in range(1):\n",
    "                Offense_data_tmp.append(NBA_data[j][i+0:i+50][:,k+bigger_dataset+another_team][:,[0,1]])\n",
    "        Offense_data.append(Offense_data_tmp)\n",
    "    Offense_data = np.array(Offense_data)\n",
    "    Offense_data = np.transpose(Offense_data,(1,2,0,3)).reshape(-1,50,10)\n",
    "    \n",
    "    return Offense_data, Category"
   ]
  },
  {
   "cell_type": "code",
   "execution_count": 3,
   "metadata": {},
   "outputs": [],
   "source": [
    "def GetSUVdata(train_select = True, project_root = ''):\n",
    "    if(train_select == True):\n",
    "        players = np.load(project_root + 'data/T_no_shuffle_pair_data.npy')\n",
    "        data_len = 12537\n",
    "    else:\n",
    "        players = np.load('data/S_no_shuffle_pair_data.npy')\n",
    "        data_len = 1394\n",
    "    max_x = np.max(players[:,:,:,0])\n",
    "    max_y = np.max(players[:,:,:,1])\n",
    "    min_x = np.min(players[:,:,:,0])\n",
    "    min_y = np.min(players[:,:,:,1])\n",
    "    players[:,:,:,0] = 2 * ((players[:,:,:,0] - min_x) / (max_x - min_x)) - 1\n",
    "    players[:,:,:,1] = 2 * ((players[:,:,:,1] - min_y) / (max_y - min_y)) - 1\n",
    "    \n",
    "    X_ball = []\n",
    "    for j in range(134):\n",
    "        X_ball.append(players[j][:,[0]][:,:,[0,1]])\n",
    "    X_ball = np.array(X_ball)\n",
    "    X_ball = X_ball.reshape(-1,50,2)\n",
    "    \n",
    "    X_train = []\n",
    "    y_train = []\n",
    "    another_team = 0\n",
    "    bigger_dataset = 1\n",
    "    \n",
    "    for k in range(5):\n",
    "        X_train_tmp = []\n",
    "        y_train_tmp = []\n",
    "        for j in range(data_len):\n",
    "            for i in range(1):\n",
    "                X_train_tmp.append(players[j][i+0:i+50][:,k+bigger_dataset+another_team][:,[0,1]])\n",
    "                y_train_tmp.append(players[j][i+0:i+50][:,k+bigger_dataset+5][:,[0,1]])\n",
    "        X_train.append(X_train_tmp)\n",
    "        y_train.append(y_train_tmp)\n",
    "    X_train = np.array(X_train)\n",
    "    y_train = np.array(y_train)\n",
    "    X_train = np.transpose(X_train,(1,2,0,3)).reshape(-1,50,10)\n",
    "    y_train = np.transpose(y_train,(1,2,0,3)).reshape(-1,50,10)\n",
    "    \n",
    "    return X_train, y_train, X_ball"
   ]
  },
  {
   "cell_type": "code",
   "execution_count": 4,
   "metadata": {},
   "outputs": [],
   "source": [
    "def Gettestdata(project_root = ''):\n",
    "    players_test = np.load('data/output_sample.npy')\n",
    "    players_test = np.squeeze(players_test,1)\n",
    "    for i in range(0,22,2):\n",
    "        if(i == 0):\n",
    "            players = np.concatenate((np.expand_dims(players_test[:,:,[i]],3),np.expand_dims(players_test[:,:,[i+1]],3)),3)\n",
    "        else:\n",
    "            tmp = np.concatenate((np.expand_dims(players_test[:,:,[i]],3),np.expand_dims(players_test[:,:,[i+1]],3)),3)\n",
    "            players = np.concatenate((players, tmp),2)\n",
    "    data_len = 1000\n",
    "    max_x = np.max(players[:,:,:,0])\n",
    "    max_y = np.max(players[:,:,:,1])\n",
    "    min_x = np.min(players[:,:,:,0])\n",
    "    min_y = np.min(players[:,:,:,1])\n",
    "    players[:,:,:,0] = 2 * ((players[:,:,:,0] - min_x) / (max_x - min_x)) - 1\n",
    "    players[:,:,:,1] = 2 * ((players[:,:,:,1] - min_y) / (max_y - min_y)) - 1\n",
    "    \n",
    "    X_train = []\n",
    "    y_train = []\n",
    "    another_team = 0\n",
    "    bigger_dataset = 1\n",
    "    \n",
    "    for k in range(5):\n",
    "        X_train_tmp = []\n",
    "        y_train_tmp = []\n",
    "        for j in range(data_len):\n",
    "            for i in range(1):\n",
    "                X_train_tmp.append(players[j][i+0:i+50][:,k+bigger_dataset+another_team][:,[0,1]])\n",
    "                y_train_tmp.append(players[j][i+0:i+50][:,k+bigger_dataset+5][:,[0,1]])\n",
    "        X_train.append(X_train_tmp)\n",
    "        y_train.append(y_train_tmp)\n",
    "    X_train = np.array(X_train)\n",
    "    y_train = np.array(y_train)\n",
    "    X_train = np.transpose(X_train,(1,2,0,3)).reshape(-1,50,10)\n",
    "    y_train = np.transpose(y_train,(1,2,0,3)).reshape(-1,50,10)\n",
    "    \n",
    "    return X_train, y_train"
   ]
  },
  {
   "cell_type": "markdown",
   "metadata": {},
   "source": [
    "# Model Structurre"
   ]
  },
  {
   "cell_type": "code",
   "execution_count": 5,
   "metadata": {
    "executionInfo": {
     "elapsed": 384,
     "status": "ok",
     "timestamp": 1628007117219,
     "user": {
      "displayName": "趙仰生",
      "photoUrl": "https://lh3.googleusercontent.com/a-/AOh14GiyPpyNRma6KPgIkasnLrkJdAyUt6KrCPhbboIBAg=s64",
      "userId": "00937645575279213956"
     },
     "user_tz": -480
    },
    "id": "Kfjn2nwULAWq"
   },
   "outputs": [],
   "source": [
    "class Encoder(nn.Module):\n",
    "    def __init__(self):\n",
    "        super(Encoder, self).__init__()\n",
    "        self.rnn1 = nn.GRU(30, 512, 2, batch_first = True)\n",
    "        \n",
    "    def forward(self, x, hn=None):\n",
    "        x, hn = self.rnn1(x, hn)\n",
    "        return x, hn\n",
    "\n",
    "class EncoderToZ(nn.Module):\n",
    "    def __init__(self, z_dim):\n",
    "        super(EncoderToZ, self).__init__()\n",
    "        \n",
    "        self.w_qs = nn.Linear(1 * 64, 1 * 64, bias=False)\n",
    "        self.w_ks = nn.Linear(512 * 2, 1 * 64, bias=False)\n",
    "        self.w_vs = nn.Linear(512 * 2, 1 * 1024, bias=False)\n",
    "        \n",
    "        #self.dropout = nn.Dropout(0.5) \n",
    "        \n",
    "        self.fc1 = nn.Linear(512, z_dim)\n",
    "        self.fc2 = nn.Linear(512, z_dim)\n",
    "        \n",
    "    def forward(self, hn):\n",
    "        sz_b = hn.size(1)\n",
    "        hn = torch.transpose(hn,0,1).transpose(1,2).reshape(sz_b, 50, -1)\n",
    "        q = self.w_qs(torch.ones(sz_b, 64,device=device)).view(sz_b, 1, 1, 64)\n",
    "        k = self.w_ks(hn).view(sz_b, 50, 1, 64)\n",
    "        v = self.w_vs(hn).view(sz_b, 50, 1, 1024)\n",
    "        \n",
    "        q, k, v = q.transpose(1, 2), k.transpose(1, 2), v.transpose(1, 2)\n",
    "        \n",
    "        attn = torch.matmul(q, k.transpose(2, 3))\n",
    "        #attn = self.dropout(F.softmax(attn, dim=-1))\n",
    "        attn = F.softmax(attn, dim=-1)\n",
    "        output = torch.matmul(attn, v).view(sz_b, 2, -1).transpose(0,1)\n",
    "        z_mu, z_logvar = self.fc1(output), self.fc2(output)\n",
    "        \n",
    "        return z_mu.view(2,z_mu.shape[1],-1), z_logvar.view(2,z_logvar.shape[1],-1), output, attn\n",
    "    \n",
    "class ZToDecoder(nn.Module):\n",
    "    def __init__(self, z_dim):\n",
    "        super(ZToDecoder, self).__init__()\n",
    "        self.fc1 = nn.Linear(z_dim, 512)\n",
    "        \n",
    "    def forward(self, z):\n",
    "        z = F.relu(self.fc1(z))\n",
    "        return z\n",
    "\n",
    "class Generator_O(nn.Module):\n",
    "    def __init__(self):\n",
    "        super(Generator_O, self).__init__()\n",
    "        self.rnn1 = nn.GRU(30, 512, 2, batch_first = True)\n",
    "        self.fc2 = nn.Linear(512, 30)\n",
    "        \n",
    "    def forward(self, x, z):\n",
    "        x, hn = self.rnn1(x, z)\n",
    "        x = (self.fc2(x))\n",
    "        return nn.Tanh()(x[:,-1]), hn\n",
    "    \n",
    "class Generator_D(nn.Module):\n",
    "    def __init__(self):\n",
    "        super(Generator_D, self).__init__()\n",
    "        self.embedding = nn.Linear(30, 1024)\n",
    "        self.w_qs = nn.Linear(1024 * 2, 1 * 64, bias=False)\n",
    "        self.w_ks = nn.Linear(512 * 2, 1 * 64, bias=False)\n",
    "        self.w_vs = nn.Linear(512 * 2, 1 * 1024, bias=False)\n",
    "        ##self.attn = nn.Linear(1024 * 2, 50)\n",
    "        self.attn_combine = nn.Linear(1024, 512)\n",
    "        \n",
    "        self.dropout = nn.Dropout(0.5)\n",
    "        \n",
    "        self.gru = nn.GRU(512, 512, 2, batch_first = True)\n",
    "        self.out = nn.Linear(512, 30)\n",
    "        \n",
    "    def forward(self, x, z, encoder_hn):\n",
    "        time_step = encoder_hn.size(2)\n",
    "        sz_b = encoder_hn.size(1)\n",
    "        encoder_hn = torch.transpose(encoder_hn,0,1).transpose(1,2).reshape(sz_b, time_step, -1)\n",
    "        embedded = self.embedding(x).view(len(x), 1, -1)\n",
    "        embedded = self.dropout(embedded)\n",
    "        \n",
    "        cat_input_z = torch.cat((embedded, z.view(len(x), 1, -1)), 2)\n",
    "        q = self.w_qs(cat_input_z).view(sz_b, 1, 1, 64)\n",
    "        k = self.w_ks(encoder_hn).view(sz_b, time_step, 1, 64)\n",
    "        v = self.w_vs(encoder_hn).view(sz_b, time_step, 1, 1024)\n",
    "        \n",
    "        q, k, v = q.transpose(1, 2), k.transpose(1, 2), v.transpose(1, 2)\n",
    "        attn = torch.matmul(q, k.transpose(2, 3))\n",
    "        attn = self.dropout(F.softmax(attn, dim=-1))\n",
    "        output = torch.matmul(attn, v).view(sz_b, 1, -1)\n",
    "        output = self.attn_combine(output)\n",
    "        \n",
    "#         attn_weights = F.softmax(\n",
    "#             self.attn(torch.cat((embedded, z.view(len(x), 1, -1)), 2)), dim=2)\n",
    "#         attn_applied = torch.bmm(attn_weights,encoder_hn)\n",
    "        \n",
    "#         output = torch.cat((embedded, attn_applied), 2)\n",
    "#         output = self.attn_combine(output)\n",
    "        \n",
    "        output = F.relu(output)\n",
    "        output, hn = self.gru(output, z)\n",
    "        x = self.out(output)\n",
    "        \n",
    "        return nn.Tanh()(x[:,-1]), hn, attn"
   ]
  },
  {
   "cell_type": "markdown",
   "metadata": {},
   "source": [
    "# Training and Testing"
   ]
  },
  {
   "cell_type": "code",
   "execution_count": 6,
   "metadata": {
    "colab": {
     "base_uri": "https://localhost:8080/"
    },
    "executionInfo": {
     "elapsed": 336026,
     "status": "ok",
     "timestamp": 1628008875281,
     "user": {
      "displayName": "趙仰生",
      "photoUrl": "https://lh3.googleusercontent.com/a-/AOh14GiyPpyNRma6KPgIkasnLrkJdAyUt6KrCPhbboIBAg=s64",
      "userId": "00937645575279213956"
     },
     "user_tz": -480
    },
    "id": "YRtcwnvJSCB5",
    "outputId": "a05b6f66-7882-449b-c7e6-ce82697d33e3"
   },
   "outputs": [],
   "source": [
    "def Training(X_train, y_train, batch_size = 32, z_dim = 128):\n",
    "\n",
    "    #data preparation\n",
    "    batch_data = TensorDataset(torch.tensor(X_train), torch.tensor(y_train))\n",
    "    dataloader = DataLoader(batch_data, batch_size=batch_size, shuffle=True)\n",
    "\n",
    "    # Construct Model\n",
    "    netEnc = Encoder().to(device)\n",
    "    netETZ = EncoderToZ(z_dim).to(device)\n",
    "    netZTD = ZToDecoder(z_dim).to(device)\n",
    "    netDec = Generator_O().to(device)\n",
    "    netDec_D = Generator_D().to(device)\n",
    "    params = list(netEnc.parameters()) + list(netETZ.parameters()) + list(netZTD.parameters()) + list(netDec.parameters()) + list(netDec_D.parameters())\n",
    "#     params = list(netEnc.parameters()) + list(netETZ.parameters()) + list(netZTD.parameters()) + list(netDec.parameters())\n",
    "    \n",
    "    opt = optim.Adam(params, lr=0.0001, betas=(0.5, 0.999))\n",
    "#     opt_D = optim.Adam(netDec_D.parameters(), lr=0.0001, betas=(0.5, 0.999))\n",
    "\n",
    "    # Main Loop\n",
    "    num_epochs = 100\n",
    "    #z_fixed = torch.randn(36, z_dim, device=device)\n",
    "    print(\"Start Training ...\")\n",
    "    for epoch in range(num_epochs):\n",
    "        for i, data in enumerate(dataloader, 0):\n",
    "            # Initialize\n",
    "            netEnc.zero_grad()\n",
    "            netETZ.zero_grad()\n",
    "            netZTD.zero_grad()\n",
    "            netDec.zero_grad()\n",
    "            netDec_D.zero_grad()\n",
    "            \n",
    "            x = data[0].cuda().float()\n",
    "            y = data[1].cuda().float()\n",
    "\n",
    "            for j in range(50):\n",
    "                if (j == 0):\n",
    "                    tmp_x, tmp_hn = netEnc(x[:,[j]])\n",
    "                elif (j == 1):\n",
    "                    tmp_x2, tmp_hn2 = netEnc(x[:,[j]],tmp_hn)\n",
    "                    encoder_output = torch.cat((tmp_x,tmp_x2),1)\n",
    "                    hn = torch.cat((torch.unsqueeze(tmp_hn, 2),torch.unsqueeze(tmp_hn2, 2)),2)\n",
    "                else:\n",
    "                    tmp_x2, tmp_hn2 = netEnc(x[:,[j]],tmp_hn2)\n",
    "                    encoder_output = torch.cat((encoder_output,tmp_x2),1)\n",
    "                    hn = torch.cat((hn,torch.unsqueeze(tmp_hn2, 2)),2)\n",
    "            \n",
    "            hn_D = hn\n",
    "            z_mean, z_logvar, hn, attn = netETZ(hn)\n",
    "            kl_loss = - 0.5 * torch.sum(1+ z_logvar - z_mean.pow(2) - z_logvar.exp())\n",
    "            \n",
    "            z_var = torch.exp(0.5 * z_logvar)\n",
    "            epsilon = torch.randn_like(z_var).cuda()           \n",
    "            z = (z_mean + z_var*epsilon)\n",
    "            z = netZTD(z)\n",
    "            padding_x = torch.zeros(len(x),1,30,device=device)\n",
    "            for j in range(50):\n",
    "                if (j == 0):\n",
    "                    tmp_x, hn = netDec(padding_x,z)\n",
    "                    tmp_x = tmp_x.view(-1,1,30)\n",
    "                elif (j == 1):\n",
    "                    tmp_x2, hn = netDec(tmp_x,hn)\n",
    "                    tmp_x2 = tmp_x2.view(-1,1,30)\n",
    "                    recon_x = torch.cat((tmp_x,tmp_x2),1)\n",
    "                else:\n",
    "                    tmp_x2, hn = netDec(tmp_x2,hn)\n",
    "                    tmp_x2 = tmp_x2.view(-1,1,30)\n",
    "                    recon_x = torch.cat((recon_x,tmp_x2),1)\n",
    "            #element_sub = torch.mean(torch.square(torch.subtract(recon_x, x)),-1)\n",
    "            #attn_mul = torch.mul(attn.reshape(-1,50),50)\n",
    "            #L2_loss = torch.mean(torch.mul(element_sub,attn_mul))\n",
    "            rec_loss = nn.MSELoss()(recon_x, x)\n",
    "            #rec_loss = L2_loss\n",
    "            \n",
    "            padding_x = torch.zeros(len(x),1,30,device=device)\n",
    "            for j in range(50):\n",
    "                if (j == 0):\n",
    "                    tmp_x, hn, _ = netDec_D(padding_x,z,hn_D)\n",
    "                    tmp_x = tmp_x.view(-1,1,30)\n",
    "                elif (j == 1):\n",
    "                    tmp_x2, hn, _ = netDec_D(tmp_x,hn,hn_D)\n",
    "                    tmp_x2 = tmp_x2.view(-1,1,30)\n",
    "                    recon_y = torch.cat((tmp_x,tmp_x2),1)\n",
    "                else:\n",
    "                    tmp_x2, hn, _ = netDec_D(tmp_x2,hn,hn_D)\n",
    "                    tmp_x2 = tmp_x2.view(-1,1,30)\n",
    "                    recon_y = torch.cat((recon_y,tmp_x2),1) \n",
    "            rec_D_loss = nn.MSELoss()(recon_y, y)\n",
    "\n",
    "            loss = rec_loss + 0.00001 * kl_loss + rec_D_loss\n",
    "            loss.backward()\n",
    "            opt.step()\n",
    "#             opt_D.step()\n",
    "\n",
    "            # Show Information\n",
    "            if i % 100 == 0:\n",
    "                print(\"[%d/%d][%s/%d] R_O_loss: %.4f | R_D_loss: %.4f | KL_loss: %.4f\"\\\n",
    "                %(epoch+1, num_epochs, str(i).zfill(4), len(dataloader), rec_loss.item(), rec_D_loss.item(), kl_loss.mean().item()))\n",
    "    return netEnc,netETZ,netZTD,netDec,netDec_D"
   ]
  },
  {
   "cell_type": "code",
   "execution_count": 7,
   "metadata": {
    "colab": {
     "base_uri": "https://localhost:8080/"
    },
    "executionInfo": {
     "elapsed": 291,
     "status": "ok",
     "timestamp": 1628009337035,
     "user": {
      "displayName": "趙仰生",
      "photoUrl": "https://lh3.googleusercontent.com/a-/AOh14GiyPpyNRma6KPgIkasnLrkJdAyUt6KrCPhbboIBAg=s64",
      "userId": "00937645575279213956"
     },
     "user_tz": -480
    },
    "id": "vlVI1kivzaI5",
    "outputId": "b8dbfba2-60a1-498c-cbdf-1bbaf039dd9a"
   },
   "outputs": [],
   "source": [
    "def Testing(X_test, batch_size = 134, num_step=50):\n",
    "    batch_data = TensorDataset(torch.tensor(X_test))\n",
    "\n",
    "    ### Do Not Shuffle!!!!!!!!!!\n",
    "    dataloader = DataLoader(batch_data, batch_size=batch_size, shuffle=False)\n",
    "    total_loss = 0\n",
    "    index = -1\n",
    "    for x in dataloader:\n",
    "        index += 1\n",
    "        x = x[0].float().cuda()\n",
    "        # ===================forward====================\n",
    "        for j in range(num_step):\n",
    "            if (j == 0):\n",
    "                tmp_x, tmp_hn = netEnc(x[:,[j]])\n",
    "            elif (j == 1):\n",
    "                tmp_x2, tmp_hn2 = netEnc(x[:,[j]],tmp_hn)\n",
    "                encoder_output = torch.cat((tmp_x,tmp_x2),1)\n",
    "                hn = torch.cat((torch.unsqueeze(tmp_hn, 2),torch.unsqueeze(tmp_hn2, 2)),2)\n",
    "            else:\n",
    "                tmp_x2, tmp_hn2 = netEnc(x[:,[j]],tmp_hn2)\n",
    "                encoder_output = torch.cat((encoder_output,tmp_x2),1)\n",
    "                hn = torch.cat((hn,torch.unsqueeze(tmp_hn2, 2)),2)\n",
    "                \n",
    "        hn_D = hn\n",
    "        z_mean, z_logvar, hn, attn = netETZ(hn)\n",
    "        #c = torch.cat((z_mean, z_logvar),2)\n",
    "        if(index == 0):\n",
    "            X = hn.cpu().detach().numpy()\n",
    "            Attn_Score = attn.cpu().detach().numpy()\n",
    "        else:\n",
    "            X = np.concatenate((X,hn.cpu().detach().numpy()),1)\n",
    "            Attn_Score = np.concatenate((Attn_Score,attn.cpu().detach().numpy()),0)\n",
    "            \n",
    "        z_var = torch.exp(0.5 * z_logvar)\n",
    "        epsilon = torch.randn_like(z_var).cuda()           \n",
    "        z = (z_mean + z_var*epsilon)\n",
    "\n",
    "        #z = z.view(-1,z.shape[0],z.shape[1])\n",
    "        z = netZTD(z)\n",
    "        padding_x = torch.zeros(len(x),1,30,device=device)\n",
    "        for j in range(num_step):\n",
    "            if (j == 0):\n",
    "                tmp_x, hn = netDec(padding_x,z)\n",
    "                tmp_x = tmp_x.view(-1,1,30)\n",
    "            elif (j == 1):\n",
    "                tmp_x2, hn = netDec(tmp_x,hn)\n",
    "                tmp_x2 = tmp_x2.view(-1,1,30)\n",
    "                recon_x_O = torch.cat((tmp_x,tmp_x2),1)\n",
    "            else:\n",
    "                tmp_x2, hn = netDec(tmp_x2,hn)\n",
    "                tmp_x2 = tmp_x2.view(-1,1,30)\n",
    "                recon_x_O = torch.cat((recon_x_O,tmp_x2),1)\n",
    "        rec_loss = nn.L1Loss()(recon_x_O, x)\n",
    "        print(rec_loss)\n",
    "        \n",
    "        z = netZTD(z_mean)\n",
    "        #encoder_output = encoder_output.detach()\n",
    "        #z = z.detach()\n",
    "        padding_x = torch.zeros(len(x),1,30,device=device)\n",
    "        for j in range(num_step):\n",
    "            if (j == 0):\n",
    "                tmp_x, hn, _ = netDec_D(padding_x,z,hn_D)\n",
    "                tmp_x = tmp_x.view(-1,1,30)\n",
    "            elif (j == 1):\n",
    "                tmp_x2, hn, _ = netDec_D(tmp_x,hn,hn_D)\n",
    "                tmp_x2 = tmp_x2.view(-1,1,30)\n",
    "                recon_x_D = torch.cat((tmp_x,tmp_x2),1)\n",
    "            else:\n",
    "                tmp_x2, hn, _ = netDec_D(tmp_x2,hn,hn_D)\n",
    "                tmp_x2 = tmp_x2.view(-1,1,30)\n",
    "                recon_x_D = torch.cat((recon_x_D,tmp_x2),1)\n",
    "        \n",
    "        if(index == 0):\n",
    "            recon_D_tmp = recon_x_D.cpu().detach()\n",
    "            recon_O_tmp = recon_x_O.cpu().detach()\n",
    "        else:\n",
    "            recon_D_tmp = torch.cat((recon_D_tmp,recon_x_D.cpu().detach()),0)\n",
    "            recon_O_tmp = torch.cat((recon_O_tmp,recon_x_O.cpu().detach()),0)\n",
    "        \n",
    "    return X, recon_O_tmp.cpu().detach().numpy(), recon_D_tmp.cpu().detach().numpy(), Attn_Score, z_mean\n",
    "#     return X, recon_O_tmp.cpu().detach().numpy(), Attn_Score, z_mean"
   ]
  },
  {
   "cell_type": "markdown",
   "metadata": {},
   "source": [
    "# Data Visualization"
   ]
  },
  {
   "cell_type": "code",
   "execution_count": 8,
   "metadata": {},
   "outputs": [],
   "source": [
    "def draw_play(draw_O, draw_D, X_ball, index = 0):\n",
    "    fig = plt.figure(figsize=(6, 6), dpi=100)\n",
    "    ax = fig.gca()\n",
    "    ax.axes.xaxis.set_visible(False)\n",
    "    ax.axes.yaxis.set_visible(False)\n",
    "    img = mpimg.imread('nba_court_T.png')\n",
    "    ax.imshow(img,extent=[-1,1,-1,1], zorder=10)\n",
    "\n",
    "    line, = ax.plot([], [], color='blue', linestyle='-', linewidth=2, alpha=0.3)\n",
    "    line2, = ax.plot([], [], color='blue', linestyle='-', linewidth=2, alpha=0.3)\n",
    "    line3, = ax.plot([], [], color='blue', linestyle='-', linewidth=2, alpha=0.3)\n",
    "    line4, = ax.plot([], [], color='blue', linestyle='-', linewidth=2, alpha=0.3)\n",
    "    line5, = ax.plot([], [], color='blue', linestyle='-', linewidth=2, alpha=0.3)\n",
    "    line6, = ax.plot([], [], color='red', linestyle='-', linewidth=2, alpha=0.3)\n",
    "    line7, = ax.plot([], [], color='red', linestyle='-', linewidth=2, alpha=0.3)\n",
    "    line8, = ax.plot([], [], color='red', linestyle='-', linewidth=2, alpha=0.3)\n",
    "    line9, = ax.plot([], [], color='red', linestyle='-', linewidth=2, alpha=0.3)\n",
    "    line10, = ax.plot([], [], color='red', linestyle='-', linewidth=2, alpha=0.3)\n",
    "    lineB, = ax.plot([], [], color='green', linestyle='-', linewidth=2, alpha=0.3)\n",
    "    dot, = ax.plot([], [], color='blue', marker='o', markersize=10, markeredgecolor='black', linestyle='')\n",
    "    dot2, = ax.plot([], [], color='blue', marker='o', markersize=10, markeredgecolor='black', linestyle='')\n",
    "    dot3, = ax.plot([], [], color='blue', marker='o', markersize=10, markeredgecolor='black', linestyle='')\n",
    "    dot4, = ax.plot([], [], color='blue', marker='o', markersize=10, markeredgecolor='black', linestyle='')\n",
    "    dot5, = ax.plot([], [], color='blue', marker='o', markersize=10, markeredgecolor='black', linestyle='')\n",
    "    dot6, = ax.plot([], [], color='red', marker='o', markersize=10, markeredgecolor='black', linestyle='')\n",
    "    dot7, = ax.plot([], [], color='red', marker='o', markersize=10, markeredgecolor='black', linestyle='')\n",
    "    dot8, = ax.plot([], [], color='red', marker='o', markersize=10, markeredgecolor='black', linestyle='')\n",
    "    dot9, = ax.plot([], [], color='red', marker='o', markersize=10, markeredgecolor='black', linestyle='')\n",
    "    dot10, = ax.plot([], [], color='red', marker='o', markersize=10, markeredgecolor='black', linestyle='')\n",
    "    dotB, = ax.plot([], [], color='green', marker='o', markersize=10, markeredgecolor='black', linestyle='')\n",
    "    dot_, = ax.plot([], [], color='blue', marker='$1$', markersize=7, markeredgecolor='white', linestyle='')\n",
    "    dot2_, = ax.plot([], [], color='blue', marker='$2$', markersize=7, markeredgecolor='white', linestyle='')\n",
    "    dot3_, = ax.plot([], [], color='blue', marker='$3$', markersize=7, markeredgecolor='white', linestyle='')\n",
    "    dot4_, = ax.plot([], [], color='blue', marker='$4$', markersize=7, markeredgecolor='white', linestyle='')\n",
    "    dot5_, = ax.plot([], [], color='blue', marker='$5$', markersize=7, markeredgecolor='white', linestyle='')\n",
    "    dot6_, = ax.plot([], [], color='red', marker='$1$', markersize=7, markeredgecolor='white', linestyle='')\n",
    "    dot7_, = ax.plot([], [], color='red', marker='$2$', markersize=7, markeredgecolor='white', linestyle='')\n",
    "    dot8_, = ax.plot([], [], color='red', marker='$3$', markersize=7, markeredgecolor='white', linestyle='')\n",
    "    dot9_, = ax.plot([], [], color='red', marker='$4$', markersize=7, markeredgecolor='white', linestyle='')\n",
    "    dot10_, = ax.plot([], [], color='red', marker='$5$', markersize=7, markeredgecolor='white', linestyle='')\n",
    "\n",
    "\n",
    "    def update(i):\n",
    "        line.set_data(draw_O[index][:,[0]].reshape(-1)[:i], draw_O[index][:,[1]].reshape(-1)[:i])\n",
    "        line2.set_data(draw_O[index][:,[2]].reshape(-1)[:i], draw_O[index][:,[3]].reshape(-1)[:i])\n",
    "        line3.set_data(draw_O[index][:,[4]].reshape(-1)[:i], draw_O[index][:,[5]].reshape(-1)[:i])\n",
    "        line4.set_data(draw_O[index][:,[6]].reshape(-1)[:i], draw_O[index][:,[7]].reshape(-1)[:i])\n",
    "        line5.set_data(draw_O[index][:,[8]].reshape(-1)[:i], draw_O[index][:,[9]].reshape(-1)[:i])\n",
    "        line6.set_data(draw_D[index][:,[0]].reshape(-1)[:i], draw_D[index][:,[1]].reshape(-1)[:i])\n",
    "        line7.set_data(draw_D[index][:,[2]].reshape(-1)[:i], draw_D[index][:,[3]].reshape(-1)[:i])\n",
    "        line8.set_data(draw_D[index][:,[4]].reshape(-1)[:i], draw_D[index][:,[5]].reshape(-1)[:i])\n",
    "        line9.set_data(draw_D[index][:,[6]].reshape(-1)[:i], draw_D[index][:,[7]].reshape(-1)[:i])\n",
    "        line10.set_data(draw_D[index][:,[8]].reshape(-1)[:i], draw_D[index][:,[9]].reshape(-1)[:i])\n",
    "        lineB.set_data(X_ball[index][:,[0]].reshape(-1)[:i], X_ball[index][:,[1]].reshape(-1)[:i])\n",
    "\n",
    "        dot.set_data(draw_O[index][:,[0]].reshape(-1)[i], draw_O[index][:,[1]].reshape(-1)[i])\n",
    "        dot2.set_data(draw_O[index][:,[2]].reshape(-1)[i], draw_O[index][:,[3]].reshape(-1)[i])\n",
    "        dot3.set_data(draw_O[index][:,[4]].reshape(-1)[i], draw_O[index][:,[5]].reshape(-1)[i])\n",
    "        dot4.set_data(draw_O[index][:,[6]].reshape(-1)[i], draw_O[index][:,[7]].reshape(-1)[i])\n",
    "        dot5.set_data(draw_O[index][:,[8]].reshape(-1)[i], draw_O[index][:,[9]].reshape(-1)[i])\n",
    "        dot6.set_data(draw_D[index][:,[0]].reshape(-1)[i], draw_D[index][:,[1]].reshape(-1)[i])\n",
    "        dot7.set_data(draw_D[index][:,[2]].reshape(-1)[i], draw_D[index][:,[3]].reshape(-1)[i])\n",
    "        dot8.set_data(draw_D[index][:,[4]].reshape(-1)[i], draw_D[index][:,[5]].reshape(-1)[i])\n",
    "        dot9.set_data(draw_D[index][:,[6]].reshape(-1)[i], draw_D[index][:,[7]].reshape(-1)[i])\n",
    "        dot10.set_data(draw_D[index][:,[8]].reshape(-1)[i], draw_D[index][:,[9]].reshape(-1)[i])\n",
    "        dotB.set_data(X_ball[index][:,[0]].reshape(-1)[i], X_ball[index][:,[1]].reshape(-1)[i])\n",
    "\n",
    "        dot_.set_data(draw_O[index][:,[0]].reshape(-1)[i], draw_O[index][:,[1]].reshape(-1)[i])\n",
    "        dot2_.set_data(draw_O[index][:,[2]].reshape(-1)[i], draw_O[index][:,[3]].reshape(-1)[i])\n",
    "        dot3_.set_data(draw_O[index][:,[4]].reshape(-1)[i], draw_O[index][:,[5]].reshape(-1)[i])\n",
    "        dot4_.set_data(draw_O[index][:,[6]].reshape(-1)[i], draw_O[index][:,[7]].reshape(-1)[i])\n",
    "        dot5_.set_data(draw_O[index][:,[8]].reshape(-1)[i], draw_O[index][:,[9]].reshape(-1)[i])\n",
    "        dot6_.set_data(draw_D[index][:,[0]].reshape(-1)[i], draw_D[index][:,[1]].reshape(-1)[i])\n",
    "        dot7_.set_data(draw_D[index][:,[2]].reshape(-1)[i], draw_D[index][:,[3]].reshape(-1)[i])\n",
    "        dot8_.set_data(draw_D[index][:,[4]].reshape(-1)[i], draw_D[index][:,[5]].reshape(-1)[i])\n",
    "        dot9_.set_data(draw_D[index][:,[6]].reshape(-1)[i], draw_D[index][:,[7]].reshape(-1)[i])\n",
    "        dot10_.set_data(draw_D[index][:,[8]].reshape(-1)[i], draw_D[index][:,[9]].reshape(-1)[i])\n",
    "\n",
    "        return dot,dot2,dot3,dot4,dot5,dot6,dot7,dot8,dot9,dot10,dot_,dot2_,dot3_,dot4_,dot5_\\\n",
    "            ,dot6_,dot7_,dot8_,dot9_,dot10_,line,line2,line3,line4,line5,line6,line7,line8,line9,line10,lineB,dotB\n",
    "\n",
    "    def init():\n",
    "        line.set_data(draw_O[index][:,[0]].reshape(-1)[0], draw_O[index][:,[1]].reshape(-1)[0])\n",
    "        line2.set_data(draw_O[index][:,[2]].reshape(-1)[0], draw_O[index][:,[3]].reshape(-1)[0])\n",
    "        line3.set_data(draw_O[index][:,[4]].reshape(-1)[0], draw_O[index][:,[5]].reshape(-1)[0])\n",
    "        line4.set_data(draw_O[index][:,[6]].reshape(-1)[0], draw_O[index][:,[7]].reshape(-1)[0])\n",
    "        line5.set_data(draw_O[index][:,[8]].reshape(-1)[0], draw_O[index][:,[9]].reshape(-1)[0])\n",
    "        line6.set_data(draw_D[index][:,[0]].reshape(-1)[0], draw_D[index][:,[1]].reshape(-1)[0])\n",
    "        line7.set_data(draw_D[index][:,[2]].reshape(-1)[0], draw_D[index][:,[3]].reshape(-1)[0])\n",
    "        line8.set_data(draw_D[index][:,[4]].reshape(-1)[0], draw_D[index][:,[5]].reshape(-1)[0])\n",
    "        line9.set_data(draw_D[index][:,[6]].reshape(-1)[0], draw_D[index][:,[7]].reshape(-1)[0])\n",
    "        line10.set_data(draw_D[index][:,[8]].reshape(-1)[0], draw_D[index][:,[9]].reshape(-1)[0])\n",
    "        lineB.set_data(X_ball[index][:,[0]].reshape(-1)[0], X_ball[index][:,[1]].reshape(-1)[0])\n",
    "\n",
    "        dot.set_data(draw_O[index][:,[0]].reshape(-1)[0], draw_O[index][:,[1]].reshape(-1)[0])\n",
    "        dot2.set_data(draw_O[index][:,[2]].reshape(-1)[0], draw_O[index][:,[3]].reshape(-1)[0])\n",
    "        dot3.set_data(draw_O[index][:,[4]].reshape(-1)[0], draw_O[index][:,[5]].reshape(-1)[0])\n",
    "        dot4.set_data(draw_O[index][:,[6]].reshape(-1)[0], draw_O[index][:,[7]].reshape(-1)[0])\n",
    "        dot5.set_data(draw_O[index][:,[8]].reshape(-1)[0], draw_O[index][:,[9]].reshape(-1)[0])\n",
    "        dot6.set_data(draw_D[index][:,[0]].reshape(-1)[0], draw_D[index][:,[1]].reshape(-1)[0])\n",
    "        dot7.set_data(draw_D[index][:,[2]].reshape(-1)[0], draw_D[index][:,[3]].reshape(-1)[0])\n",
    "        dot8.set_data(draw_D[index][:,[4]].reshape(-1)[0], draw_D[index][:,[5]].reshape(-1)[0])\n",
    "        dot9.set_data(draw_D[index][:,[6]].reshape(-1)[0], draw_D[index][:,[7]].reshape(-1)[0])\n",
    "        dot10.set_data(draw_D[index][:,[8]].reshape(-1)[0], draw_D[index][:,[9]].reshape(-1)[0])\n",
    "        dotB.set_data(X_ball[index][:,[0]].reshape(-1)[0], X_ball[index][:,[1]].reshape(-1)[0])\n",
    "\n",
    "        dot_.set_data(draw_O[index][:,[0]].reshape(-1)[0], draw_O[index][:,[1]].reshape(-1)[0])\n",
    "        dot2_.set_data(draw_O[index][:,[2]].reshape(-1)[0], draw_O[index][:,[3]].reshape(-1)[0])\n",
    "        dot3_.set_data(draw_O[index][:,[4]].reshape(-1)[0], draw_O[index][:,[5]].reshape(-1)[0])\n",
    "        dot4_.set_data(draw_O[index][:,[6]].reshape(-1)[0], draw_O[index][:,[7]].reshape(-1)[0])\n",
    "        dot5_.set_data(draw_O[index][:,[8]].reshape(-1)[0], draw_O[index][:,[9]].reshape(-1)[0])\n",
    "        dot6_.set_data(draw_D[index][:,[0]].reshape(-1)[0], draw_D[index][:,[1]].reshape(-1)[0])\n",
    "        dot7_.set_data(draw_D[index][:,[2]].reshape(-1)[0], draw_D[index][:,[3]].reshape(-1)[0])\n",
    "        dot8_.set_data(draw_D[index][:,[4]].reshape(-1)[0], draw_D[index][:,[5]].reshape(-1)[0])\n",
    "        dot9_.set_data(draw_D[index][:,[6]].reshape(-1)[0], draw_D[index][:,[7]].reshape(-1)[0])\n",
    "        dot10_.set_data(draw_D[index][:,[8]].reshape(-1)[0], draw_D[index][:,[9]].reshape(-1)[0])\n",
    "        return dot,dot2,dot3,dot4,dot5,dot6,dot7,dot8,dot9,dot10,dot_,dot2_,dot3_,dot4_,dot5_\\\n",
    "            ,dot6_,dot7_,dot8_,dot9_,dot10_,line,line2,line3,line4,line5,line6,line7,line8,line9,line10,lineB,dotB\n",
    "    title = \"new_test.mp4\"\n",
    "    ani = animation.FuncAnimation(fig=fig, func=update, frames=50, init_func=init, blit=True, repeat=True)\n",
    "    ani.save(title, writer='ffmpeg', fps=8)"
   ]
  },
  {
   "cell_type": "markdown",
   "metadata": {},
   "source": [
    "#  Main - Loading and Saving Model"
   ]
  },
  {
   "cell_type": "code",
   "execution_count": 48,
   "metadata": {},
   "outputs": [],
   "source": [
    "#save_model\n",
    "project_root = \"\"\n",
    "file_path = os.path.join(project_root, \"save_thesis\")\n",
    "torch.save(netEnc.state_dict(), file_path+\"/netEnc_FT.pt\")\n",
    "torch.save(netETZ.state_dict(), file_path+\"/netETZ_FT.pt\")\n",
    "torch.save(netZTD.state_dict(), file_path+\"/netZTD_FT.pt\")\n",
    "torch.save(netDec.state_dict(), file_path+\"/netDecO_FT.pt\")\n",
    "torch.save(netDec_D.state_dict(), file_path+\"/netDecD_FT.pt\")"
   ]
  },
  {
   "cell_type": "code",
   "execution_count": 18,
   "metadata": {},
   "outputs": [
    {
     "data": {
      "text/plain": [
       "<All keys matched successfully>"
      ]
     },
     "execution_count": 18,
     "metadata": {},
     "output_type": "execute_result"
    }
   ],
   "source": [
    "#load_model\n",
    "project_root = \"\"\n",
    "file_path = os.path.join(project_root, \"save_ablation\")\n",
    "netEnc = Encoder().to(device)\n",
    "netETZ = EncoderToZ(128).to(device)\n",
    "netZTD = ZToDecoder(128).to(device)\n",
    "netDec = Generator_O().to(device)\n",
    "netDec_D = Generator_D().to(device)\n",
    "netEnc.load_state_dict(torch.load(file_path+\"/netEnc_FT.pt\"))\n",
    "netETZ.load_state_dict(torch.load(file_path+\"/netETZ_FT.pt\"))\n",
    "netZTD.load_state_dict(torch.load(file_path+\"/netZTD_FT.pt\"))\n",
    "netDec.load_state_dict(torch.load(file_path+\"/netDecO_FT.pt\"))\n",
    "netDec_D.load_state_dict(torch.load(file_path+\"/netDecD_FT.pt\"))"
   ]
  },
  {
   "cell_type": "markdown",
   "metadata": {},
   "source": [
    "# Main - Get Data"
   ]
  },
  {
   "cell_type": "code",
   "execution_count": 9,
   "metadata": {},
   "outputs": [],
   "source": [
    "Offense_train, Defense_train, Ball_draw = GetSUVdata()\n",
    "# NBA_testing, Category = GetNBAdata()\n",
    "# O_data, D_data, Ball_data = GetSUVdata(False)\n",
    "O_data, D_data = Gettestdata()"
   ]
  },
  {
   "cell_type": "markdown",
   "metadata": {},
   "source": [
    "# Main - Adding Acceleration and Velocity"
   ]
  },
  {
   "cell_type": "code",
   "execution_count": 10,
   "metadata": {},
   "outputs": [],
   "source": [
    "P_train = Offense_train.reshape(-1,50,5,2)\n",
    "PD_train = Defense_train.reshape(-1,50,5,2)\n",
    "V_train = np.concatenate((np.diff(Offense_train,axis=1,n=2),np.zeros((12537, 2, 10))),1).reshape(-1,50,5,2)\n",
    "VD_train = np.concatenate((np.diff(Defense_train,axis=1,n=2),np.zeros((12537, 2, 10))),1).reshape(-1,50,5,2)\n",
    "A_train = np.concatenate((np.diff(Offense_train,axis=1,n=1),np.zeros((12537, 1, 10))),1).reshape(-1,50,5,2)\n",
    "AD_train = np.concatenate((np.diff(Defense_train,axis=1,n=1),np.zeros((12537, 1, 10))),1).reshape(-1,50,5,2)\n",
    "O_train = np.concatenate((P_train,V_train,A_train),-1).reshape(-1,50,30)\n",
    "D_train = np.concatenate((PD_train,VD_train,AD_train),-1).reshape(-1,50,30)"
   ]
  },
  {
   "cell_type": "code",
   "execution_count": 11,
   "metadata": {},
   "outputs": [],
   "source": [
    "P_test = O_data.reshape(-1,50,5,2)\n",
    "PD_test = D_data.reshape(-1,50,5,2)\n",
    "V_test = np.concatenate((np.diff(O_data,axis=1,n=2),np.zeros((1000, 2, 10))),1).reshape(-1,50,5,2)\n",
    "VD_test = np.concatenate((np.diff(D_data,axis=1,n=2),np.zeros((1000, 2, 10))),1).reshape(-1,50,5,2)\n",
    "A_test = np.concatenate((np.diff(O_data,axis=1,n=1),np.zeros((1000, 1, 10))),1).reshape(-1,50,5,2)\n",
    "AD_test = np.concatenate((np.diff(D_data,axis=1,n=1),np.zeros((1000, 1, 10))),1).reshape(-1,50,5,2)\n",
    "O_test = np.concatenate((P_test,V_test,A_test),-1).reshape(-1,50,30)\n",
    "D_test = np.concatenate((PD_test,VD_test,AD_test),-1).reshape(-1,50,30)"
   ]
  },
  {
   "cell_type": "markdown",
   "metadata": {},
   "source": [
    "# Main - Draw Ground Truth"
   ]
  },
  {
   "cell_type": "code",
   "execution_count": 105,
   "metadata": {},
   "outputs": [
    {
     "data": {
      "image/png": "[encoded data removed]",
      "text/plain": [
       "<Figure size 600x600 with 1 Axes>"
      ]
     },
     "metadata": {
      "needs_background": "light"
     },
     "output_type": "display_data"
    }
   ],
   "source": [
    "draw_play(O_data[0:134], recon_D[0:134], Ball_data, 5)"
   ]
  },
  {
   "cell_type": "markdown",
   "metadata": {},
   "source": [
    "# Main - Training"
   ]
  },
  {
   "cell_type": "code",
   "execution_count": 47,
   "metadata": {},
   "outputs": [
    {
     "name": "stdout",
     "output_type": "stream",
     "text": [
      "Start Training ...\n",
      "[1/100][0000/392] R_O_loss: 0.0770 | R_D_loss: 0.0410 | KL_loss: 5.1936\n",
      "[1/100][0100/392] R_O_loss: 0.0710 | R_D_loss: 0.0134 | KL_loss: 31.8065\n",
      "[1/100][0200/392] R_O_loss: 0.0561 | R_D_loss: 0.0089 | KL_loss: 146.6492\n",
      "[1/100][0300/392] R_O_loss: 0.0480 | R_D_loss: 0.0070 | KL_loss: 266.4156\n",
      "[2/100][0000/392] R_O_loss: 0.0433 | R_D_loss: 0.0063 | KL_loss: 308.5319\n",
      "[2/100][0100/392] R_O_loss: 0.0415 | R_D_loss: 0.0059 | KL_loss: 305.7254\n",
      "[2/100][0200/392] R_O_loss: 0.0385 | R_D_loss: 0.0071 | KL_loss: 308.6570\n",
      "[2/100][0300/392] R_O_loss: 0.0398 | R_D_loss: 0.0064 | KL_loss: 318.7260\n",
      "[3/100][0000/392] R_O_loss: 0.0430 | R_D_loss: 0.0060 | KL_loss: 296.6901\n",
      "[3/100][0100/392] R_O_loss: 0.0372 | R_D_loss: 0.0051 | KL_loss: 354.4623\n",
      "[3/100][0200/392] R_O_loss: 0.0393 | R_D_loss: 0.0054 | KL_loss: 364.7516\n",
      "[3/100][0300/392] R_O_loss: 0.0362 | R_D_loss: 0.0062 | KL_loss: 374.3969\n",
      "[4/100][0000/392] R_O_loss: 0.0376 | R_D_loss: 0.0061 | KL_loss: 370.8852\n",
      "[4/100][0100/392] R_O_loss: 0.0373 | R_D_loss: 0.0058 | KL_loss: 363.9768\n",
      "[4/100][0200/392] R_O_loss: 0.0344 | R_D_loss: 0.0059 | KL_loss: 409.5571\n",
      "[4/100][0300/392] R_O_loss: 0.0352 | R_D_loss: 0.0061 | KL_loss: 401.3711\n",
      "[5/100][0000/392] R_O_loss: 0.0370 | R_D_loss: 0.0056 | KL_loss: 387.4231\n",
      "[5/100][0100/392] R_O_loss: 0.0346 | R_D_loss: 0.0061 | KL_loss: 375.0595\n",
      "[5/100][0200/392] R_O_loss: 0.0311 | R_D_loss: 0.0068 | KL_loss: 422.2453\n",
      "[5/100][0300/392] R_O_loss: 0.0393 | R_D_loss: 0.0082 | KL_loss: 338.8334\n",
      "[6/100][0000/392] R_O_loss: 0.0353 | R_D_loss: 0.0062 | KL_loss: 408.7379\n",
      "[6/100][0100/392] R_O_loss: 0.0329 | R_D_loss: 0.0054 | KL_loss: 398.9961\n",
      "[6/100][0200/392] R_O_loss: 0.0309 | R_D_loss: 0.0071 | KL_loss: 367.2122\n",
      "[6/100][0300/392] R_O_loss: 0.0353 | R_D_loss: 0.0051 | KL_loss: 360.3678\n",
      "[7/100][0000/392] R_O_loss: 0.0350 | R_D_loss: 0.0062 | KL_loss: 376.5015\n",
      "[7/100][0100/392] R_O_loss: 0.0352 | R_D_loss: 0.0069 | KL_loss: 359.6454\n",
      "[7/100][0200/392] R_O_loss: 0.0314 | R_D_loss: 0.0067 | KL_loss: 370.4285\n",
      "[7/100][0300/392] R_O_loss: 0.0325 | R_D_loss: 0.0065 | KL_loss: 365.3136\n",
      "[8/100][0000/392] R_O_loss: 0.0322 | R_D_loss: 0.0054 | KL_loss: 354.3392\n",
      "[8/100][0100/392] R_O_loss: 0.0335 | R_D_loss: 0.0063 | KL_loss: 357.3003\n",
      "[8/100][0200/392] R_O_loss: 0.0325 | R_D_loss: 0.0048 | KL_loss: 374.8654\n",
      "[8/100][0300/392] R_O_loss: 0.0301 | R_D_loss: 0.0052 | KL_loss: 380.8408\n",
      "[9/100][0000/392] R_O_loss: 0.0308 | R_D_loss: 0.0045 | KL_loss: 364.4248\n",
      "[9/100][0100/392] R_O_loss: 0.0279 | R_D_loss: 0.0045 | KL_loss: 403.0842\n",
      "[9/100][0200/392] R_O_loss: 0.0302 | R_D_loss: 0.0071 | KL_loss: 374.0559\n",
      "[9/100][0300/392] R_O_loss: 0.0305 | R_D_loss: 0.0051 | KL_loss: 375.7770\n",
      "[10/100][0000/392] R_O_loss: 0.0286 | R_D_loss: 0.0063 | KL_loss: 420.6996\n",
      "[10/100][0100/392] R_O_loss: 0.0297 | R_D_loss: 0.0055 | KL_loss: 432.7059\n",
      "[10/100][0200/392] R_O_loss: 0.0283 | R_D_loss: 0.0045 | KL_loss: 417.7642\n",
      "[10/100][0300/392] R_O_loss: 0.0285 | R_D_loss: 0.0061 | KL_loss: 423.7719\n",
      "[11/100][0000/392] R_O_loss: 0.0270 | R_D_loss: 0.0069 | KL_loss: 418.2650\n",
      "[11/100][0100/392] R_O_loss: 0.0276 | R_D_loss: 0.0065 | KL_loss: 455.6987\n",
      "[11/100][0200/392] R_O_loss: 0.0284 | R_D_loss: 0.0052 | KL_loss: 418.1740\n",
      "[11/100][0300/392] R_O_loss: 0.0259 | R_D_loss: 0.0053 | KL_loss: 395.8387\n",
      "[12/100][0000/392] R_O_loss: 0.0262 | R_D_loss: 0.0048 | KL_loss: 459.1351\n",
      "[12/100][0100/392] R_O_loss: 0.0256 | R_D_loss: 0.0057 | KL_loss: 457.8567\n",
      "[12/100][0200/392] R_O_loss: 0.0248 | R_D_loss: 0.0058 | KL_loss: 485.4401\n",
      "[12/100][0300/392] R_O_loss: 0.0253 | R_D_loss: 0.0051 | KL_loss: 469.7338\n",
      "[13/100][0000/392] R_O_loss: 0.0258 | R_D_loss: 0.0061 | KL_loss: 485.1771\n",
      "[13/100][0100/392] R_O_loss: 0.0223 | R_D_loss: 0.0055 | KL_loss: 489.3651\n",
      "[13/100][0200/392] R_O_loss: 0.0237 | R_D_loss: 0.0065 | KL_loss: 411.4574\n",
      "[13/100][0300/392] R_O_loss: 0.0242 | R_D_loss: 0.0045 | KL_loss: 462.0643\n",
      "[14/100][0000/392] R_O_loss: 0.0212 | R_D_loss: 0.0063 | KL_loss: 503.2867\n",
      "[14/100][0100/392] R_O_loss: 0.0239 | R_D_loss: 0.0059 | KL_loss: 498.6418\n",
      "[14/100][0200/392] R_O_loss: 0.0232 | R_D_loss: 0.0067 | KL_loss: 484.9819\n",
      "[14/100][0300/392] R_O_loss: 0.0251 | R_D_loss: 0.0058 | KL_loss: 473.4886\n",
      "[15/100][0000/392] R_O_loss: 0.0223 | R_D_loss: 0.0044 | KL_loss: 495.8844\n",
      "[15/100][0100/392] R_O_loss: 0.0237 | R_D_loss: 0.0066 | KL_loss: 495.4472\n",
      "[15/100][0200/392] R_O_loss: 0.0251 | R_D_loss: 0.0057 | KL_loss: 479.2896\n",
      "[15/100][0300/392] R_O_loss: 0.0225 | R_D_loss: 0.0058 | KL_loss: 487.2045\n",
      "[16/100][0000/392] R_O_loss: 0.0231 | R_D_loss: 0.0063 | KL_loss: 500.3326\n",
      "[16/100][0100/392] R_O_loss: 0.0209 | R_D_loss: 0.0053 | KL_loss: 469.6900\n",
      "[16/100][0200/392] R_O_loss: 0.0238 | R_D_loss: 0.0060 | KL_loss: 494.2125\n",
      "[16/100][0300/392] R_O_loss: 0.0218 | R_D_loss: 0.0046 | KL_loss: 498.3279\n",
      "[17/100][0000/392] R_O_loss: 0.0211 | R_D_loss: 0.0049 | KL_loss: 488.6893\n",
      "[17/100][0100/392] R_O_loss: 0.0230 | R_D_loss: 0.0051 | KL_loss: 449.1687\n",
      "[17/100][0200/392] R_O_loss: 0.0195 | R_D_loss: 0.0062 | KL_loss: 509.7621\n",
      "[17/100][0300/392] R_O_loss: 0.0204 | R_D_loss: 0.0057 | KL_loss: 491.2739\n",
      "[18/100][0000/392] R_O_loss: 0.0245 | R_D_loss: 0.0054 | KL_loss: 516.9250\n",
      "[18/100][0100/392] R_O_loss: 0.0224 | R_D_loss: 0.0069 | KL_loss: 536.4351\n",
      "[18/100][0200/392] R_O_loss: 0.0206 | R_D_loss: 0.0048 | KL_loss: 534.2534\n",
      "[18/100][0300/392] R_O_loss: 0.0201 | R_D_loss: 0.0043 | KL_loss: 512.2571\n",
      "[19/100][0000/392] R_O_loss: 0.0186 | R_D_loss: 0.0052 | KL_loss: 562.3139\n",
      "[19/100][0100/392] R_O_loss: 0.0193 | R_D_loss: 0.0061 | KL_loss: 569.8658\n",
      "[19/100][0200/392] R_O_loss: 0.0205 | R_D_loss: 0.0050 | KL_loss: 563.4520\n",
      "[19/100][0300/392] R_O_loss: 0.0196 | R_D_loss: 0.0047 | KL_loss: 595.7753\n",
      "[20/100][0000/392] R_O_loss: 0.0182 | R_D_loss: 0.0054 | KL_loss: 552.9965\n",
      "[20/100][0100/392] R_O_loss: 0.0190 | R_D_loss: 0.0061 | KL_loss: 576.5179\n",
      "[20/100][0200/392] R_O_loss: 0.0187 | R_D_loss: 0.0058 | KL_loss: 554.6359\n",
      "[20/100][0300/392] R_O_loss: 0.0203 | R_D_loss: 0.0050 | KL_loss: 580.3939\n",
      "[21/100][0000/392] R_O_loss: 0.0205 | R_D_loss: 0.0057 | KL_loss: 565.8202\n",
      "[21/100][0100/392] R_O_loss: 0.0189 | R_D_loss: 0.0066 | KL_loss: 586.2365\n",
      "[21/100][0200/392] R_O_loss: 0.0161 | R_D_loss: 0.0041 | KL_loss: 604.0807\n",
      "[21/100][0300/392] R_O_loss: 0.0173 | R_D_loss: 0.0054 | KL_loss: 577.3927\n",
      "[22/100][0000/392] R_O_loss: 0.0202 | R_D_loss: 0.0055 | KL_loss: 592.9643\n",
      "[22/100][0100/392] R_O_loss: 0.0167 | R_D_loss: 0.0043 | KL_loss: 597.9595\n",
      "[22/100][0200/392] R_O_loss: 0.0154 | R_D_loss: 0.0057 | KL_loss: 620.5754\n",
      "[22/100][0300/392] R_O_loss: 0.0159 | R_D_loss: 0.0051 | KL_loss: 642.2037\n",
      "[23/100][0000/392] R_O_loss: 0.0153 | R_D_loss: 0.0051 | KL_loss: 654.8784\n",
      "[23/100][0100/392] R_O_loss: 0.0164 | R_D_loss: 0.0051 | KL_loss: 650.1310\n",
      "[23/100][0200/392] R_O_loss: 0.0168 | R_D_loss: 0.0057 | KL_loss: 661.6052\n",
      "[23/100][0300/392] R_O_loss: 0.0142 | R_D_loss: 0.0061 | KL_loss: 662.2224\n",
      "[24/100][0000/392] R_O_loss: 0.0161 | R_D_loss: 0.0074 | KL_loss: 666.7737\n",
      "[24/100][0100/392] R_O_loss: 0.0167 | R_D_loss: 0.0045 | KL_loss: 642.5408\n",
      "[24/100][0200/392] R_O_loss: 0.0157 | R_D_loss: 0.0054 | KL_loss: 666.2870\n",
      "[24/100][0300/392] R_O_loss: 0.0145 | R_D_loss: 0.0058 | KL_loss: 631.4380\n",
      "[25/100][0000/392] R_O_loss: 0.0148 | R_D_loss: 0.0057 | KL_loss: 701.6974\n",
      "[25/100][0100/392] R_O_loss: 0.0146 | R_D_loss: 0.0058 | KL_loss: 668.4278\n",
      "[25/100][0200/392] R_O_loss: 0.0138 | R_D_loss: 0.0053 | KL_loss: 698.8879\n",
      "[25/100][0300/392] R_O_loss: 0.0144 | R_D_loss: 0.0070 | KL_loss: 689.0166\n",
      "[26/100][0000/392] R_O_loss: 0.0155 | R_D_loss: 0.0053 | KL_loss: 715.7360\n",
      "[26/100][0100/392] R_O_loss: 0.0126 | R_D_loss: 0.0058 | KL_loss: 687.7819\n",
      "[26/100][0200/392] R_O_loss: 0.0146 | R_D_loss: 0.0046 | KL_loss: 726.2119\n",
      "[26/100][0300/392] R_O_loss: 0.0137 | R_D_loss: 0.0058 | KL_loss: 684.7065\n",
      "[27/100][0000/392] R_O_loss: 0.0138 | R_D_loss: 0.0058 | KL_loss: 711.9302\n",
      "[27/100][0100/392] R_O_loss: 0.0127 | R_D_loss: 0.0045 | KL_loss: 676.2134\n",
      "[27/100][0200/392] R_O_loss: 0.0136 | R_D_loss: 0.0043 | KL_loss: 684.2266\n",
      "[27/100][0300/392] R_O_loss: 0.0129 | R_D_loss: 0.0045 | KL_loss: 688.6730\n",
      "[28/100][0000/392] R_O_loss: 0.0144 | R_D_loss: 0.0042 | KL_loss: 726.3642\n",
      "[28/100][0100/392] R_O_loss: 0.0128 | R_D_loss: 0.0066 | KL_loss: 698.3285\n"
     ]
    },
    {
     "name": "stdout",
     "output_type": "stream",
     "text": [
      "[28/100][0200/392] R_O_loss: 0.0118 | R_D_loss: 0.0045 | KL_loss: 695.6378\n",
      "[28/100][0300/392] R_O_loss: 0.0145 | R_D_loss: 0.0042 | KL_loss: 729.2343\n",
      "[29/100][0000/392] R_O_loss: 0.0130 | R_D_loss: 0.0040 | KL_loss: 709.9952\n",
      "[29/100][0100/392] R_O_loss: 0.0144 | R_D_loss: 0.0049 | KL_loss: 743.0696\n",
      "[29/100][0200/392] R_O_loss: 0.0137 | R_D_loss: 0.0062 | KL_loss: 710.9924\n",
      "[29/100][0300/392] R_O_loss: 0.0126 | R_D_loss: 0.0062 | KL_loss: 726.8436\n",
      "[30/100][0000/392] R_O_loss: 0.0130 | R_D_loss: 0.0049 | KL_loss: 760.7511\n",
      "[30/100][0100/392] R_O_loss: 0.0130 | R_D_loss: 0.0052 | KL_loss: 714.7551\n",
      "[30/100][0200/392] R_O_loss: 0.0126 | R_D_loss: 0.0062 | KL_loss: 676.2432\n",
      "[30/100][0300/392] R_O_loss: 0.0129 | R_D_loss: 0.0061 | KL_loss: 736.7042\n",
      "[31/100][0000/392] R_O_loss: 0.0113 | R_D_loss: 0.0057 | KL_loss: 741.8737\n",
      "[31/100][0100/392] R_O_loss: 0.0126 | R_D_loss: 0.0047 | KL_loss: 699.0321\n",
      "[31/100][0200/392] R_O_loss: 0.0117 | R_D_loss: 0.0035 | KL_loss: 702.8285\n",
      "[31/100][0300/392] R_O_loss: 0.0134 | R_D_loss: 0.0055 | KL_loss: 739.6302\n",
      "[32/100][0000/392] R_O_loss: 0.0113 | R_D_loss: 0.0046 | KL_loss: 731.8009\n",
      "[32/100][0100/392] R_O_loss: 0.0119 | R_D_loss: 0.0053 | KL_loss: 716.5819\n",
      "[32/100][0200/392] R_O_loss: 0.0132 | R_D_loss: 0.0048 | KL_loss: 716.0675\n",
      "[32/100][0300/392] R_O_loss: 0.0125 | R_D_loss: 0.0049 | KL_loss: 726.5077\n",
      "[33/100][0000/392] R_O_loss: 0.0121 | R_D_loss: 0.0042 | KL_loss: 713.4337\n",
      "[33/100][0100/392] R_O_loss: 0.0116 | R_D_loss: 0.0048 | KL_loss: 730.7354\n",
      "[33/100][0200/392] R_O_loss: 0.0125 | R_D_loss: 0.0049 | KL_loss: 755.9024\n",
      "[33/100][0300/392] R_O_loss: 0.0127 | R_D_loss: 0.0053 | KL_loss: 721.6851\n",
      "[34/100][0000/392] R_O_loss: 0.0117 | R_D_loss: 0.0042 | KL_loss: 737.2150\n",
      "[34/100][0100/392] R_O_loss: 0.0122 | R_D_loss: 0.0056 | KL_loss: 747.0985\n",
      "[34/100][0200/392] R_O_loss: 0.0122 | R_D_loss: 0.0054 | KL_loss: 716.5908\n",
      "[34/100][0300/392] R_O_loss: 0.0122 | R_D_loss: 0.0039 | KL_loss: 723.0404\n",
      "[35/100][0000/392] R_O_loss: 0.0127 | R_D_loss: 0.0058 | KL_loss: 781.3799\n",
      "[35/100][0100/392] R_O_loss: 0.0125 | R_D_loss: 0.0046 | KL_loss: 725.4718\n",
      "[35/100][0200/392] R_O_loss: 0.0109 | R_D_loss: 0.0049 | KL_loss: 765.0552\n",
      "[35/100][0300/392] R_O_loss: 0.0120 | R_D_loss: 0.0049 | KL_loss: 737.4797\n",
      "[36/100][0000/392] R_O_loss: 0.0118 | R_D_loss: 0.0055 | KL_loss: 735.5027\n",
      "[36/100][0100/392] R_O_loss: 0.0111 | R_D_loss: 0.0065 | KL_loss: 730.8151\n",
      "[36/100][0200/392] R_O_loss: 0.0118 | R_D_loss: 0.0046 | KL_loss: 744.0292\n",
      "[36/100][0300/392] R_O_loss: 0.0119 | R_D_loss: 0.0048 | KL_loss: 712.3344\n",
      "[37/100][0000/392] R_O_loss: 0.0118 | R_D_loss: 0.0053 | KL_loss: 757.5433\n",
      "[37/100][0100/392] R_O_loss: 0.0120 | R_D_loss: 0.0050 | KL_loss: 735.9485\n",
      "[37/100][0200/392] R_O_loss: 0.0136 | R_D_loss: 0.0061 | KL_loss: 746.6822\n",
      "[37/100][0300/392] R_O_loss: 0.0123 | R_D_loss: 0.0037 | KL_loss: 747.1014\n",
      "[38/100][0000/392] R_O_loss: 0.0111 | R_D_loss: 0.0049 | KL_loss: 721.8226\n",
      "[38/100][0100/392] R_O_loss: 0.0111 | R_D_loss: 0.0048 | KL_loss: 726.7948\n",
      "[38/100][0200/392] R_O_loss: 0.0110 | R_D_loss: 0.0045 | KL_loss: 741.5351\n",
      "[38/100][0300/392] R_O_loss: 0.0119 | R_D_loss: 0.0052 | KL_loss: 758.3370\n",
      "[39/100][0000/392] R_O_loss: 0.0117 | R_D_loss: 0.0044 | KL_loss: 738.8626\n",
      "[39/100][0100/392] R_O_loss: 0.0116 | R_D_loss: 0.0052 | KL_loss: 733.0897\n",
      "[39/100][0200/392] R_O_loss: 0.0119 | R_D_loss: 0.0038 | KL_loss: 731.0623\n",
      "[39/100][0300/392] R_O_loss: 0.0123 | R_D_loss: 0.0044 | KL_loss: 737.5549\n",
      "[40/100][0000/392] R_O_loss: 0.0112 | R_D_loss: 0.0053 | KL_loss: 743.7452\n",
      "[40/100][0100/392] R_O_loss: 0.0121 | R_D_loss: 0.0039 | KL_loss: 753.3105\n",
      "[40/100][0200/392] R_O_loss: 0.0119 | R_D_loss: 0.0057 | KL_loss: 730.2153\n",
      "[40/100][0300/392] R_O_loss: 0.0098 | R_D_loss: 0.0043 | KL_loss: 721.9056\n",
      "[41/100][0000/392] R_O_loss: 0.0109 | R_D_loss: 0.0045 | KL_loss: 754.5127\n",
      "[41/100][0100/392] R_O_loss: 0.0107 | R_D_loss: 0.0057 | KL_loss: 740.8475\n",
      "[41/100][0200/392] R_O_loss: 0.0113 | R_D_loss: 0.0043 | KL_loss: 787.7234\n",
      "[41/100][0300/392] R_O_loss: 0.0109 | R_D_loss: 0.0053 | KL_loss: 717.2399\n",
      "[42/100][0000/392] R_O_loss: 0.0102 | R_D_loss: 0.0043 | KL_loss: 757.4827\n",
      "[42/100][0100/392] R_O_loss: 0.0114 | R_D_loss: 0.0042 | KL_loss: 735.5820\n",
      "[42/100][0200/392] R_O_loss: 0.0108 | R_D_loss: 0.0063 | KL_loss: 727.7021\n",
      "[42/100][0300/392] R_O_loss: 0.0106 | R_D_loss: 0.0067 | KL_loss: 730.2614\n",
      "[43/100][0000/392] R_O_loss: 0.0116 | R_D_loss: 0.0050 | KL_loss: 773.0037\n",
      "[43/100][0100/392] R_O_loss: 0.0118 | R_D_loss: 0.0042 | KL_loss: 730.9139\n",
      "[43/100][0200/392] R_O_loss: 0.0102 | R_D_loss: 0.0047 | KL_loss: 771.1078\n",
      "[43/100][0300/392] R_O_loss: 0.0109 | R_D_loss: 0.0057 | KL_loss: 757.1449\n",
      "[44/100][0000/392] R_O_loss: 0.0098 | R_D_loss: 0.0043 | KL_loss: 784.1177\n",
      "[44/100][0100/392] R_O_loss: 0.0101 | R_D_loss: 0.0048 | KL_loss: 761.7089\n",
      "[44/100][0200/392] R_O_loss: 0.0115 | R_D_loss: 0.0048 | KL_loss: 723.8196\n",
      "[44/100][0300/392] R_O_loss: 0.0109 | R_D_loss: 0.0065 | KL_loss: 772.4036\n",
      "[45/100][0000/392] R_O_loss: 0.0108 | R_D_loss: 0.0055 | KL_loss: 796.0150\n",
      "[45/100][0100/392] R_O_loss: 0.0112 | R_D_loss: 0.0041 | KL_loss: 725.9980\n",
      "[45/100][0200/392] R_O_loss: 0.0111 | R_D_loss: 0.0055 | KL_loss: 740.7825\n",
      "[45/100][0300/392] R_O_loss: 0.0114 | R_D_loss: 0.0044 | KL_loss: 730.6731\n",
      "[46/100][0000/392] R_O_loss: 0.0108 | R_D_loss: 0.0051 | KL_loss: 745.6589\n",
      "[46/100][0100/392] R_O_loss: 0.0108 | R_D_loss: 0.0039 | KL_loss: 727.1268\n",
      "[46/100][0200/392] R_O_loss: 0.0116 | R_D_loss: 0.0045 | KL_loss: 761.8878\n",
      "[46/100][0300/392] R_O_loss: 0.0117 | R_D_loss: 0.0050 | KL_loss: 745.9409\n",
      "[47/100][0000/392] R_O_loss: 0.0108 | R_D_loss: 0.0049 | KL_loss: 757.6051\n",
      "[47/100][0100/392] R_O_loss: 0.0114 | R_D_loss: 0.0043 | KL_loss: 749.4012\n",
      "[47/100][0200/392] R_O_loss: 0.0094 | R_D_loss: 0.0046 | KL_loss: 729.9597\n",
      "[47/100][0300/392] R_O_loss: 0.0109 | R_D_loss: 0.0055 | KL_loss: 726.5228\n",
      "[48/100][0000/392] R_O_loss: 0.0117 | R_D_loss: 0.0049 | KL_loss: 749.5791\n",
      "[48/100][0100/392] R_O_loss: 0.0097 | R_D_loss: 0.0044 | KL_loss: 772.5050\n",
      "[48/100][0200/392] R_O_loss: 0.0104 | R_D_loss: 0.0037 | KL_loss: 766.1716\n",
      "[48/100][0300/392] R_O_loss: 0.0109 | R_D_loss: 0.0054 | KL_loss: 745.3496\n",
      "[49/100][0000/392] R_O_loss: 0.0106 | R_D_loss: 0.0037 | KL_loss: 761.6273\n",
      "[49/100][0100/392] R_O_loss: 0.0113 | R_D_loss: 0.0042 | KL_loss: 747.2635\n",
      "[49/100][0200/392] R_O_loss: 0.0107 | R_D_loss: 0.0055 | KL_loss: 770.5446\n",
      "[49/100][0300/392] R_O_loss: 0.0111 | R_D_loss: 0.0044 | KL_loss: 751.3353\n",
      "[50/100][0000/392] R_O_loss: 0.0116 | R_D_loss: 0.0042 | KL_loss: 757.0862\n",
      "[50/100][0100/392] R_O_loss: 0.0100 | R_D_loss: 0.0047 | KL_loss: 759.5899\n",
      "[50/100][0200/392] R_O_loss: 0.0102 | R_D_loss: 0.0062 | KL_loss: 757.2009\n",
      "[50/100][0300/392] R_O_loss: 0.0100 | R_D_loss: 0.0049 | KL_loss: 763.2839\n",
      "[51/100][0000/392] R_O_loss: 0.0103 | R_D_loss: 0.0054 | KL_loss: 775.8799\n",
      "[51/100][0100/392] R_O_loss: 0.0118 | R_D_loss: 0.0046 | KL_loss: 747.9797\n",
      "[51/100][0200/392] R_O_loss: 0.0113 | R_D_loss: 0.0050 | KL_loss: 775.0571\n",
      "[51/100][0300/392] R_O_loss: 0.0106 | R_D_loss: 0.0046 | KL_loss: 734.5627\n",
      "[52/100][0000/392] R_O_loss: 0.0108 | R_D_loss: 0.0042 | KL_loss: 752.0483\n",
      "[52/100][0100/392] R_O_loss: 0.0113 | R_D_loss: 0.0051 | KL_loss: 757.0986\n",
      "[52/100][0200/392] R_O_loss: 0.0110 | R_D_loss: 0.0044 | KL_loss: 730.9884\n",
      "[52/100][0300/392] R_O_loss: 0.0116 | R_D_loss: 0.0037 | KL_loss: 767.2547\n",
      "[53/100][0000/392] R_O_loss: 0.0109 | R_D_loss: 0.0056 | KL_loss: 793.4357\n",
      "[53/100][0100/392] R_O_loss: 0.0111 | R_D_loss: 0.0054 | KL_loss: 788.1772\n",
      "[53/100][0200/392] R_O_loss: 0.0107 | R_D_loss: 0.0040 | KL_loss: 739.2772\n",
      "[53/100][0300/392] R_O_loss: 0.0108 | R_D_loss: 0.0052 | KL_loss: 740.5608\n",
      "[54/100][0000/392] R_O_loss: 0.0107 | R_D_loss: 0.0046 | KL_loss: 793.0095\n",
      "[54/100][0100/392] R_O_loss: 0.0097 | R_D_loss: 0.0038 | KL_loss: 765.9839\n",
      "[54/100][0200/392] R_O_loss: 0.0095 | R_D_loss: 0.0052 | KL_loss: 737.4117\n",
      "[54/100][0300/392] R_O_loss: 0.0098 | R_D_loss: 0.0041 | KL_loss: 761.0342\n",
      "[55/100][0000/392] R_O_loss: 0.0104 | R_D_loss: 0.0036 | KL_loss: 741.4026\n",
      "[55/100][0100/392] R_O_loss: 0.0104 | R_D_loss: 0.0040 | KL_loss: 768.6773\n",
      "[55/100][0200/392] R_O_loss: 0.0098 | R_D_loss: 0.0049 | KL_loss: 760.0007\n",
      "[55/100][0300/392] R_O_loss: 0.0101 | R_D_loss: 0.0045 | KL_loss: 746.2501\n"
     ]
    },
    {
     "name": "stdout",
     "output_type": "stream",
     "text": [
      "[56/100][0000/392] R_O_loss: 0.0109 | R_D_loss: 0.0045 | KL_loss: 788.5817\n",
      "[56/100][0100/392] R_O_loss: 0.0124 | R_D_loss: 0.0048 | KL_loss: 742.2496\n",
      "[56/100][0200/392] R_O_loss: 0.0103 | R_D_loss: 0.0052 | KL_loss: 740.6830\n",
      "[56/100][0300/392] R_O_loss: 0.0098 | R_D_loss: 0.0062 | KL_loss: 752.9263\n",
      "[57/100][0000/392] R_O_loss: 0.0104 | R_D_loss: 0.0049 | KL_loss: 773.0543\n",
      "[57/100][0100/392] R_O_loss: 0.0094 | R_D_loss: 0.0041 | KL_loss: 743.4498\n",
      "[57/100][0200/392] R_O_loss: 0.0105 | R_D_loss: 0.0034 | KL_loss: 758.0349\n",
      "[57/100][0300/392] R_O_loss: 0.0107 | R_D_loss: 0.0044 | KL_loss: 773.7676\n",
      "[58/100][0000/392] R_O_loss: 0.0097 | R_D_loss: 0.0043 | KL_loss: 765.6050\n",
      "[58/100][0100/392] R_O_loss: 0.0104 | R_D_loss: 0.0041 | KL_loss: 772.6269\n",
      "[58/100][0200/392] R_O_loss: 0.0102 | R_D_loss: 0.0043 | KL_loss: 764.0497\n",
      "[58/100][0300/392] R_O_loss: 0.0113 | R_D_loss: 0.0036 | KL_loss: 760.1135\n",
      "[59/100][0000/392] R_O_loss: 0.0110 | R_D_loss: 0.0040 | KL_loss: 778.3207\n",
      "[59/100][0100/392] R_O_loss: 0.0102 | R_D_loss: 0.0040 | KL_loss: 759.6703\n",
      "[59/100][0200/392] R_O_loss: 0.0099 | R_D_loss: 0.0050 | KL_loss: 770.9903\n",
      "[59/100][0300/392] R_O_loss: 0.0107 | R_D_loss: 0.0044 | KL_loss: 749.9193\n",
      "[60/100][0000/392] R_O_loss: 0.0092 | R_D_loss: 0.0051 | KL_loss: 780.8964\n",
      "[60/100][0100/392] R_O_loss: 0.0113 | R_D_loss: 0.0039 | KL_loss: 761.3700\n",
      "[60/100][0200/392] R_O_loss: 0.0112 | R_D_loss: 0.0037 | KL_loss: 739.2185\n",
      "[60/100][0300/392] R_O_loss: 0.0108 | R_D_loss: 0.0047 | KL_loss: 745.5330\n",
      "[61/100][0000/392] R_O_loss: 0.0096 | R_D_loss: 0.0034 | KL_loss: 748.2167\n",
      "[61/100][0100/392] R_O_loss: 0.0099 | R_D_loss: 0.0046 | KL_loss: 733.6270\n",
      "[61/100][0200/392] R_O_loss: 0.0108 | R_D_loss: 0.0042 | KL_loss: 755.8582\n",
      "[61/100][0300/392] R_O_loss: 0.0107 | R_D_loss: 0.0045 | KL_loss: 769.3530\n",
      "[62/100][0000/392] R_O_loss: 0.0107 | R_D_loss: 0.0035 | KL_loss: 748.7724\n",
      "[62/100][0100/392] R_O_loss: 0.0099 | R_D_loss: 0.0045 | KL_loss: 769.4846\n",
      "[62/100][0200/392] R_O_loss: 0.0105 | R_D_loss: 0.0046 | KL_loss: 744.3494\n",
      "[62/100][0300/392] R_O_loss: 0.0110 | R_D_loss: 0.0046 | KL_loss: 746.3621\n",
      "[63/100][0000/392] R_O_loss: 0.0097 | R_D_loss: 0.0036 | KL_loss: 793.8629\n",
      "[63/100][0100/392] R_O_loss: 0.0106 | R_D_loss: 0.0046 | KL_loss: 752.5244\n",
      "[63/100][0200/392] R_O_loss: 0.0104 | R_D_loss: 0.0043 | KL_loss: 758.1901\n",
      "[63/100][0300/392] R_O_loss: 0.0103 | R_D_loss: 0.0042 | KL_loss: 761.2411\n",
      "[64/100][0000/392] R_O_loss: 0.0108 | R_D_loss: 0.0044 | KL_loss: 774.2925\n",
      "[64/100][0100/392] R_O_loss: 0.0096 | R_D_loss: 0.0034 | KL_loss: 768.0262\n",
      "[64/100][0200/392] R_O_loss: 0.0102 | R_D_loss: 0.0051 | KL_loss: 755.9164\n",
      "[64/100][0300/392] R_O_loss: 0.0106 | R_D_loss: 0.0048 | KL_loss: 770.8024\n",
      "[65/100][0000/392] R_O_loss: 0.0098 | R_D_loss: 0.0039 | KL_loss: 759.5559\n",
      "[65/100][0100/392] R_O_loss: 0.0102 | R_D_loss: 0.0042 | KL_loss: 777.1052\n",
      "[65/100][0200/392] R_O_loss: 0.0104 | R_D_loss: 0.0034 | KL_loss: 753.0680\n",
      "[65/100][0300/392] R_O_loss: 0.0094 | R_D_loss: 0.0042 | KL_loss: 808.9288\n",
      "[66/100][0000/392] R_O_loss: 0.0105 | R_D_loss: 0.0042 | KL_loss: 790.4401\n",
      "[66/100][0100/392] R_O_loss: 0.0104 | R_D_loss: 0.0044 | KL_loss: 733.8739\n",
      "[66/100][0200/392] R_O_loss: 0.0098 | R_D_loss: 0.0035 | KL_loss: 748.3983\n",
      "[66/100][0300/392] R_O_loss: 0.0093 | R_D_loss: 0.0038 | KL_loss: 786.7773\n",
      "[67/100][0000/392] R_O_loss: 0.0092 | R_D_loss: 0.0044 | KL_loss: 781.1273\n",
      "[67/100][0100/392] R_O_loss: 0.0105 | R_D_loss: 0.0037 | KL_loss: 768.8658\n",
      "[67/100][0200/392] R_O_loss: 0.0100 | R_D_loss: 0.0036 | KL_loss: 785.1304\n",
      "[67/100][0300/392] R_O_loss: 0.0090 | R_D_loss: 0.0051 | KL_loss: 726.9935\n",
      "[68/100][0000/392] R_O_loss: 0.0104 | R_D_loss: 0.0051 | KL_loss: 780.6143\n",
      "[68/100][0100/392] R_O_loss: 0.0096 | R_D_loss: 0.0046 | KL_loss: 773.9971\n",
      "[68/100][0200/392] R_O_loss: 0.0101 | R_D_loss: 0.0038 | KL_loss: 763.4228\n",
      "[68/100][0300/392] R_O_loss: 0.0105 | R_D_loss: 0.0048 | KL_loss: 795.0227\n",
      "[69/100][0000/392] R_O_loss: 0.0102 | R_D_loss: 0.0037 | KL_loss: 796.2651\n",
      "[69/100][0100/392] R_O_loss: 0.0098 | R_D_loss: 0.0033 | KL_loss: 773.1423\n",
      "[69/100][0200/392] R_O_loss: 0.0103 | R_D_loss: 0.0039 | KL_loss: 760.5093\n",
      "[69/100][0300/392] R_O_loss: 0.0094 | R_D_loss: 0.0043 | KL_loss: 726.7227\n",
      "[70/100][0000/392] R_O_loss: 0.0107 | R_D_loss: 0.0031 | KL_loss: 764.9536\n",
      "[70/100][0100/392] R_O_loss: 0.0090 | R_D_loss: 0.0036 | KL_loss: 744.7837\n",
      "[70/100][0200/392] R_O_loss: 0.0089 | R_D_loss: 0.0037 | KL_loss: 766.9760\n",
      "[70/100][0300/392] R_O_loss: 0.0093 | R_D_loss: 0.0033 | KL_loss: 772.9807\n",
      "[71/100][0000/392] R_O_loss: 0.0099 | R_D_loss: 0.0044 | KL_loss: 797.7894\n",
      "[71/100][0100/392] R_O_loss: 0.0099 | R_D_loss: 0.0041 | KL_loss: 744.5320\n",
      "[71/100][0200/392] R_O_loss: 0.0091 | R_D_loss: 0.0039 | KL_loss: 764.7159\n",
      "[71/100][0300/392] R_O_loss: 0.0103 | R_D_loss: 0.0047 | KL_loss: 769.6487\n",
      "[72/100][0000/392] R_O_loss: 0.0094 | R_D_loss: 0.0039 | KL_loss: 756.4663\n",
      "[72/100][0100/392] R_O_loss: 0.0097 | R_D_loss: 0.0045 | KL_loss: 791.4738\n",
      "[72/100][0200/392] R_O_loss: 0.0102 | R_D_loss: 0.0042 | KL_loss: 748.2816\n",
      "[72/100][0300/392] R_O_loss: 0.0091 | R_D_loss: 0.0031 | KL_loss: 773.8353\n",
      "[73/100][0000/392] R_O_loss: 0.0091 | R_D_loss: 0.0041 | KL_loss: 784.8615\n",
      "[73/100][0100/392] R_O_loss: 0.0098 | R_D_loss: 0.0036 | KL_loss: 776.9723\n",
      "[73/100][0200/392] R_O_loss: 0.0100 | R_D_loss: 0.0043 | KL_loss: 790.1719\n",
      "[73/100][0300/392] R_O_loss: 0.0099 | R_D_loss: 0.0041 | KL_loss: 766.7669\n",
      "[74/100][0000/392] R_O_loss: 0.0101 | R_D_loss: 0.0032 | KL_loss: 783.8641\n",
      "[74/100][0100/392] R_O_loss: 0.0102 | R_D_loss: 0.0035 | KL_loss: 766.4515\n",
      "[74/100][0200/392] R_O_loss: 0.0094 | R_D_loss: 0.0038 | KL_loss: 770.4529\n",
      "[74/100][0300/392] R_O_loss: 0.0101 | R_D_loss: 0.0039 | KL_loss: 764.4415\n",
      "[75/100][0000/392] R_O_loss: 0.0094 | R_D_loss: 0.0033 | KL_loss: 768.7105\n",
      "[75/100][0100/392] R_O_loss: 0.0100 | R_D_loss: 0.0033 | KL_loss: 756.1509\n",
      "[75/100][0200/392] R_O_loss: 0.0088 | R_D_loss: 0.0033 | KL_loss: 771.9112\n",
      "[75/100][0300/392] R_O_loss: 0.0098 | R_D_loss: 0.0039 | KL_loss: 788.1100\n",
      "[76/100][0000/392] R_O_loss: 0.0095 | R_D_loss: 0.0036 | KL_loss: 809.7065\n",
      "[76/100][0100/392] R_O_loss: 0.0087 | R_D_loss: 0.0039 | KL_loss: 777.2073\n",
      "[76/100][0200/392] R_O_loss: 0.0087 | R_D_loss: 0.0031 | KL_loss: 778.3838\n",
      "[76/100][0300/392] R_O_loss: 0.0097 | R_D_loss: 0.0037 | KL_loss: 810.4059\n",
      "[77/100][0000/392] R_O_loss: 0.0093 | R_D_loss: 0.0031 | KL_loss: 789.0643\n",
      "[77/100][0100/392] R_O_loss: 0.0087 | R_D_loss: 0.0038 | KL_loss: 755.5375\n",
      "[77/100][0200/392] R_O_loss: 0.0098 | R_D_loss: 0.0037 | KL_loss: 774.4136\n",
      "[77/100][0300/392] R_O_loss: 0.0090 | R_D_loss: 0.0042 | KL_loss: 781.0410\n",
      "[78/100][0000/392] R_O_loss: 0.0090 | R_D_loss: 0.0032 | KL_loss: 791.3171\n",
      "[78/100][0100/392] R_O_loss: 0.0099 | R_D_loss: 0.0035 | KL_loss: 811.7501\n",
      "[78/100][0200/392] R_O_loss: 0.0098 | R_D_loss: 0.0034 | KL_loss: 786.3421\n",
      "[78/100][0300/392] R_O_loss: 0.0088 | R_D_loss: 0.0040 | KL_loss: 773.4923\n",
      "[79/100][0000/392] R_O_loss: 0.0097 | R_D_loss: 0.0030 | KL_loss: 803.8192\n",
      "[79/100][0100/392] R_O_loss: 0.0096 | R_D_loss: 0.0032 | KL_loss: 760.2015\n",
      "[79/100][0200/392] R_O_loss: 0.0085 | R_D_loss: 0.0035 | KL_loss: 793.5931\n",
      "[79/100][0300/392] R_O_loss: 0.0090 | R_D_loss: 0.0031 | KL_loss: 770.7952\n",
      "[80/100][0000/392] R_O_loss: 0.0098 | R_D_loss: 0.0031 | KL_loss: 781.8053\n",
      "[80/100][0100/392] R_O_loss: 0.0099 | R_D_loss: 0.0037 | KL_loss: 786.9880\n",
      "[80/100][0200/392] R_O_loss: 0.0097 | R_D_loss: 0.0040 | KL_loss: 796.4128\n",
      "[80/100][0300/392] R_O_loss: 0.0089 | R_D_loss: 0.0029 | KL_loss: 793.1932\n",
      "[81/100][0000/392] R_O_loss: 0.0085 | R_D_loss: 0.0033 | KL_loss: 776.4301\n",
      "[81/100][0100/392] R_O_loss: 0.0084 | R_D_loss: 0.0026 | KL_loss: 805.2633\n",
      "[81/100][0200/392] R_O_loss: 0.0098 | R_D_loss: 0.0035 | KL_loss: 795.4995\n",
      "[81/100][0300/392] R_O_loss: 0.0095 | R_D_loss: 0.0028 | KL_loss: 760.8911\n",
      "[82/100][0000/392] R_O_loss: 0.0094 | R_D_loss: 0.0030 | KL_loss: 769.5594\n",
      "[82/100][0100/392] R_O_loss: 0.0087 | R_D_loss: 0.0035 | KL_loss: 777.5670\n",
      "[82/100][0200/392] R_O_loss: 0.0089 | R_D_loss: 0.0032 | KL_loss: 756.6702\n",
      "[82/100][0300/392] R_O_loss: 0.0083 | R_D_loss: 0.0034 | KL_loss: 792.9932\n",
      "[83/100][0000/392] R_O_loss: 0.0094 | R_D_loss: 0.0029 | KL_loss: 778.6204\n",
      "[83/100][0100/392] R_O_loss: 0.0096 | R_D_loss: 0.0033 | KL_loss: 773.6204\n"
     ]
    },
    {
     "name": "stdout",
     "output_type": "stream",
     "text": [
      "[83/100][0200/392] R_O_loss: 0.0089 | R_D_loss: 0.0036 | KL_loss: 780.7853\n",
      "[83/100][0300/392] R_O_loss: 0.0103 | R_D_loss: 0.0031 | KL_loss: 768.8159\n",
      "[84/100][0000/392] R_O_loss: 0.0097 | R_D_loss: 0.0034 | KL_loss: 791.9630\n",
      "[84/100][0100/392] R_O_loss: 0.0094 | R_D_loss: 0.0026 | KL_loss: 778.9822\n",
      "[84/100][0200/392] R_O_loss: 0.0089 | R_D_loss: 0.0034 | KL_loss: 796.3052\n",
      "[84/100][0300/392] R_O_loss: 0.0083 | R_D_loss: 0.0032 | KL_loss: 772.0880\n",
      "[85/100][0000/392] R_O_loss: 0.0089 | R_D_loss: 0.0034 | KL_loss: 762.6266\n",
      "[85/100][0100/392] R_O_loss: 0.0089 | R_D_loss: 0.0035 | KL_loss: 771.0111\n",
      "[85/100][0200/392] R_O_loss: 0.0090 | R_D_loss: 0.0029 | KL_loss: 758.3469\n",
      "[85/100][0300/392] R_O_loss: 0.0092 | R_D_loss: 0.0030 | KL_loss: 776.2160\n",
      "[86/100][0000/392] R_O_loss: 0.0090 | R_D_loss: 0.0033 | KL_loss: 816.1407\n",
      "[86/100][0100/392] R_O_loss: 0.0095 | R_D_loss: 0.0027 | KL_loss: 742.0619\n",
      "[86/100][0200/392] R_O_loss: 0.0091 | R_D_loss: 0.0036 | KL_loss: 773.1497\n",
      "[86/100][0300/392] R_O_loss: 0.0092 | R_D_loss: 0.0034 | KL_loss: 788.8978\n",
      "[87/100][0000/392] R_O_loss: 0.0089 | R_D_loss: 0.0030 | KL_loss: 782.0350\n",
      "[87/100][0100/392] R_O_loss: 0.0095 | R_D_loss: 0.0033 | KL_loss: 762.7687\n",
      "[87/100][0200/392] R_O_loss: 0.0089 | R_D_loss: 0.0033 | KL_loss: 795.1210\n",
      "[87/100][0300/392] R_O_loss: 0.0100 | R_D_loss: 0.0031 | KL_loss: 786.0670\n",
      "[88/100][0000/392] R_O_loss: 0.0092 | R_D_loss: 0.0027 | KL_loss: 774.0716\n",
      "[88/100][0100/392] R_O_loss: 0.0104 | R_D_loss: 0.0031 | KL_loss: 777.5317\n",
      "[88/100][0200/392] R_O_loss: 0.0085 | R_D_loss: 0.0028 | KL_loss: 809.7009\n",
      "[88/100][0300/392] R_O_loss: 0.0094 | R_D_loss: 0.0031 | KL_loss: 780.6621\n",
      "[89/100][0000/392] R_O_loss: 0.0086 | R_D_loss: 0.0023 | KL_loss: 788.1259\n",
      "[89/100][0100/392] R_O_loss: 0.0100 | R_D_loss: 0.0026 | KL_loss: 762.7547\n",
      "[89/100][0200/392] R_O_loss: 0.0089 | R_D_loss: 0.0024 | KL_loss: 774.3700\n",
      "[89/100][0300/392] R_O_loss: 0.0086 | R_D_loss: 0.0025 | KL_loss: 757.0846\n",
      "[90/100][0000/392] R_O_loss: 0.0080 | R_D_loss: 0.0026 | KL_loss: 803.4108\n",
      "[90/100][0100/392] R_O_loss: 0.0090 | R_D_loss: 0.0026 | KL_loss: 800.6089\n",
      "[90/100][0200/392] R_O_loss: 0.0093 | R_D_loss: 0.0031 | KL_loss: 775.7955\n",
      "[90/100][0300/392] R_O_loss: 0.0088 | R_D_loss: 0.0033 | KL_loss: 795.6071\n",
      "[91/100][0000/392] R_O_loss: 0.0092 | R_D_loss: 0.0026 | KL_loss: 799.6275\n",
      "[91/100][0100/392] R_O_loss: 0.0091 | R_D_loss: 0.0027 | KL_loss: 757.9058\n",
      "[91/100][0200/392] R_O_loss: 0.0089 | R_D_loss: 0.0028 | KL_loss: 782.7305\n",
      "[91/100][0300/392] R_O_loss: 0.0090 | R_D_loss: 0.0030 | KL_loss: 782.1821\n",
      "[92/100][0000/392] R_O_loss: 0.0091 | R_D_loss: 0.0025 | KL_loss: 799.2236\n",
      "[92/100][0100/392] R_O_loss: 0.0085 | R_D_loss: 0.0026 | KL_loss: 770.3300\n",
      "[92/100][0200/392] R_O_loss: 0.0088 | R_D_loss: 0.0026 | KL_loss: 812.3481\n",
      "[92/100][0300/392] R_O_loss: 0.0093 | R_D_loss: 0.0027 | KL_loss: 797.3730\n",
      "[93/100][0000/392] R_O_loss: 0.0090 | R_D_loss: 0.0026 | KL_loss: 786.3344\n",
      "[93/100][0100/392] R_O_loss: 0.0095 | R_D_loss: 0.0025 | KL_loss: 789.6888\n",
      "[93/100][0200/392] R_O_loss: 0.0095 | R_D_loss: 0.0025 | KL_loss: 792.0564\n",
      "[93/100][0300/392] R_O_loss: 0.0098 | R_D_loss: 0.0024 | KL_loss: 782.2826\n",
      "[94/100][0000/392] R_O_loss: 0.0090 | R_D_loss: 0.0024 | KL_loss: 807.2323\n",
      "[94/100][0100/392] R_O_loss: 0.0087 | R_D_loss: 0.0026 | KL_loss: 793.3734\n",
      "[94/100][0200/392] R_O_loss: 0.0080 | R_D_loss: 0.0024 | KL_loss: 786.7213\n",
      "[94/100][0300/392] R_O_loss: 0.0084 | R_D_loss: 0.0028 | KL_loss: 781.4070\n",
      "[95/100][0000/392] R_O_loss: 0.0091 | R_D_loss: 0.0024 | KL_loss: 765.6372\n",
      "[95/100][0100/392] R_O_loss: 0.0086 | R_D_loss: 0.0027 | KL_loss: 796.7204\n",
      "[95/100][0200/392] R_O_loss: 0.0090 | R_D_loss: 0.0025 | KL_loss: 777.8104\n",
      "[95/100][0300/392] R_O_loss: 0.0085 | R_D_loss: 0.0027 | KL_loss: 807.7964\n",
      "[96/100][0000/392] R_O_loss: 0.0091 | R_D_loss: 0.0024 | KL_loss: 785.8711\n",
      "[96/100][0100/392] R_O_loss: 0.0084 | R_D_loss: 0.0023 | KL_loss: 774.0052\n",
      "[96/100][0200/392] R_O_loss: 0.0086 | R_D_loss: 0.0025 | KL_loss: 812.1982\n",
      "[96/100][0300/392] R_O_loss: 0.0089 | R_D_loss: 0.0029 | KL_loss: 768.6337\n",
      "[97/100][0000/392] R_O_loss: 0.0090 | R_D_loss: 0.0023 | KL_loss: 786.1689\n",
      "[97/100][0100/392] R_O_loss: 0.0088 | R_D_loss: 0.0028 | KL_loss: 789.4705\n",
      "[97/100][0200/392] R_O_loss: 0.0082 | R_D_loss: 0.0024 | KL_loss: 769.1307\n",
      "[97/100][0300/392] R_O_loss: 0.0078 | R_D_loss: 0.0023 | KL_loss: 767.0297\n",
      "[98/100][0000/392] R_O_loss: 0.0081 | R_D_loss: 0.0030 | KL_loss: 816.7676\n",
      "[98/100][0100/392] R_O_loss: 0.0093 | R_D_loss: 0.0024 | KL_loss: 821.6860\n",
      "[98/100][0200/392] R_O_loss: 0.0087 | R_D_loss: 0.0023 | KL_loss: 783.6983\n",
      "[98/100][0300/392] R_O_loss: 0.0080 | R_D_loss: 0.0027 | KL_loss: 776.0300\n",
      "[99/100][0000/392] R_O_loss: 0.0089 | R_D_loss: 0.0024 | KL_loss: 810.8107\n",
      "[99/100][0100/392] R_O_loss: 0.0089 | R_D_loss: 0.0022 | KL_loss: 797.9487\n",
      "[99/100][0200/392] R_O_loss: 0.0087 | R_D_loss: 0.0026 | KL_loss: 811.0847\n",
      "[99/100][0300/392] R_O_loss: 0.0086 | R_D_loss: 0.0024 | KL_loss: 762.3411\n",
      "[100/100][0000/392] R_O_loss: 0.0082 | R_D_loss: 0.0024 | KL_loss: 772.0490\n",
      "[100/100][0100/392] R_O_loss: 0.0092 | R_D_loss: 0.0023 | KL_loss: 773.8309\n",
      "[100/100][0200/392] R_O_loss: 0.0094 | R_D_loss: 0.0023 | KL_loss: 790.6334\n",
      "[100/100][0300/392] R_O_loss: 0.0094 | R_D_loss: 0.0025 | KL_loss: 829.9428\n"
     ]
    }
   ],
   "source": [
    "netEnc,netETZ,netZTD,netDec,netDec_D = Training(O_train, D_train)"
   ]
  },
  {
   "cell_type": "markdown",
   "metadata": {},
   "source": [
    "# Main - Latent Train Test Split"
   ]
  },
  {
   "cell_type": "code",
   "execution_count": 168,
   "metadata": {},
   "outputs": [],
   "source": [
    "X_train, X_test, Category_train, Category_test = train_test_split(O_train, \n",
    "                                                                  Category, test_size=0.2, random_state=0)\n",
    "Category_tmp = np.concatenate((Category_train,Category_test),0)\n",
    "X_all = np.concatenate((X_train,X_test),0)"
   ]
  },
  {
   "cell_type": "markdown",
   "metadata": {
    "executionInfo": {
     "elapsed": 296,
     "status": "ok",
     "timestamp": 1628009184126,
     "user": {
      "displayName": "趙仰生",
      "photoUrl": "https://lh3.googleusercontent.com/a-/AOh14GiyPpyNRma6KPgIkasnLrkJdAyUt6KrCPhbboIBAg=s64",
      "userId": "00937645575279213956"
     },
     "user_tz": -480
    },
    "id": "xz39QIga2Sx5"
   },
   "source": [
    "# Main - Get Latent and Defense Generation"
   ]
  },
  {
   "cell_type": "code",
   "execution_count": 53,
   "metadata": {},
   "outputs": [
    {
     "name": "stdout",
     "output_type": "stream",
     "text": [
      "tensor(0.0497, device='cuda:0', grad_fn=<L1LossBackward0>)\n",
      "tensor(0.0505, device='cuda:0', grad_fn=<L1LossBackward0>)\n",
      "tensor(0.0501, device='cuda:0', grad_fn=<L1LossBackward0>)\n",
      "tensor(0.0522, device='cuda:0', grad_fn=<L1LossBackward0>)\n",
      "tensor(0.0519, device='cuda:0', grad_fn=<L1LossBackward0>)\n",
      "tensor(0.0520, device='cuda:0', grad_fn=<L1LossBackward0>)\n",
      "tensor(0.0532, device='cuda:0', grad_fn=<L1LossBackward0>)\n",
      "tensor(0.0552, device='cuda:0', grad_fn=<L1LossBackward0>)\n"
     ]
    }
   ],
   "source": [
    "netEnc.eval()\n",
    "netETZ.eval()\n",
    "netZTD.eval()\n",
    "netDec.eval()\n",
    "netDec_D.eval()\n",
    "X, recon_O, recon_D, Attn_Score, _ = Testing(O_test)\n",
    "recon_D = recon_D[:,:,[0,1,6,7,12,13,18,19,24,25]]\n",
    "D_data = D_test"
   ]
  },
  {
   "cell_type": "markdown",
   "metadata": {},
   "source": [
    "# Main - Draw Generation"
   ]
  },
  {
   "cell_type": "code",
   "execution_count": 20,
   "metadata": {},
   "outputs": [
    {
     "data": {
      "image/png": "[encoded data removed]",
      "text/plain": [
       "<Figure size 600x600 with 1 Axes>"
      ]
     },
     "metadata": {
      "needs_background": "light"
     },
     "output_type": "display_data"
    }
   ],
   "source": [
    "draw_play(recon_O[0:134], recon_D[0:134], Ball_data[0:134], 0)"
   ]
  },
  {
   "cell_type": "markdown",
   "metadata": {},
   "source": [
    "# Main - Uncertainty Testing"
   ]
  },
  {
   "cell_type": "code",
   "execution_count": 115,
   "metadata": {},
   "outputs": [],
   "source": [
    "uncertainty = recon_D[0].reshape(1,50,10)"
   ]
  },
  {
   "cell_type": "code",
   "execution_count": 123,
   "metadata": {},
   "outputs": [],
   "source": [
    "uncertainty = np.concatenate((uncertainty,recon_O[0].reshape(1,50,10)),0)"
   ]
  },
  {
   "cell_type": "code",
   "execution_count": 124,
   "metadata": {
    "scrolled": false
   },
   "outputs": [
    {
     "data": {
      "image/png": "[encoded data removed]",
      "text/plain": [
       "<Figure size 600x600 with 1 Axes>"
      ]
     },
     "metadata": {
      "needs_background": "light"
     },
     "output_type": "display_data"
    }
   ],
   "source": [
    "draw_O = uncertainty\n",
    "import matplotlib.pyplot as plt\n",
    "fig = plt.figure(figsize=(6, 6), dpi=100)\n",
    "ax = fig.gca()\n",
    "\n",
    "import matplotlib.image as mpimg\n",
    "img = mpimg.imread('nba_court_T.png')\n",
    "ax.imshow(img,extent=[-1,1,-1,1], zorder=10)\n",
    "\n",
    "for index in range(5):\n",
    "    line, = ax.plot([], [], color='red', linestyle='-', linewidth=4, alpha=0.3)\n",
    "    line2, = ax.plot([], [], color='blue', linestyle='-', linewidth=4, alpha=0.3)\n",
    "    line3, = ax.plot([], [], color='green', linestyle='-', linewidth=4, alpha=0.3)\n",
    "    line4, = ax.plot([], [], color='purple', linestyle='-', linewidth=4, alpha=0.3)\n",
    "    line5, = ax.plot([], [], color='yellow', linestyle='-', linewidth=4, alpha=0.3)\n",
    "    line.set_data(draw_O[index][:,[0]].reshape(-1), draw_O[index][:,[1]].reshape(-1))\n",
    "    line2.set_data(draw_O[index][:,[2]].reshape(-1), draw_O[index][:,[3]].reshape(-1))\n",
    "    line3.set_data(draw_O[index][:,[4]].reshape(-1), draw_O[index][:,[5]].reshape(-1))\n",
    "    line4.set_data(draw_O[index][:,[6]].reshape(-1), draw_O[index][:,[7]].reshape(-1))\n",
    "    line5.set_data(draw_O[index][:,[8]].reshape(-1), draw_O[index][:,[9]].reshape(-1))\n",
    "\n",
    "\n",
    "    \n",
    "ax.axes.get_xaxis().set_visible(False)\n",
    "ax.axes.get_yaxis().set_visible(False)\n",
    "plt.show()\n",
    "title = str(11) + \"_uncertainty_D.jpg\"\n",
    "fig.savefig(title)"
   ]
  },
  {
   "cell_type": "markdown",
   "metadata": {},
   "source": [
    "# Main - Generation Quality"
   ]
  },
  {
   "cell_type": "code",
   "execution_count": 72,
   "metadata": {},
   "outputs": [],
   "source": [
    "import math\n",
    "error = [0] * 5\n",
    "for i in range(1000):\n",
    "    for j in range(50):\n",
    "        for k in range(0,10,2):\n",
    "            if(j == 0):\n",
    "                continue\n",
    "            elif(j==1):\n",
    "                point1_1 = ((recon_D[i][j-1][k] + 1)/2*a + min_x , (recon_D[i][j-1][k+1] + 1)/2*b + min_y)\n",
    "                point1_2 = ((recon_D[i][j][k] + 1)/2*a + min_x , (recon_D[i][j][k+1] + 1)/2*b + min_y)\n",
    "                point2_1 = ((D_data[i][j-1][k] + 1)/2*a + min_x, (D_data[i][j-1][k+1] + 1)/2*b + min_y)\n",
    "                point2_2 = ((D_data[i][j][k] + 1)/2*a + min_x, (D_data[i][j][k+1] + 1)/2*b + min_y)\n",
    "                gen_v2 = math.dist(point1_1, point1_2)\n",
    "                real_v2 = math.dist(point2_1, point2_2)\n",
    "                \n",
    "                error[int(j/10)] = error[int(j/10)] + ((gen_v2 - 0) - (real_v2 - 0))/50000\n",
    "            else:\n",
    "                point1_1 = ((recon_D[i][j-2][k] + 1)/2*a + min_x , (recon_D[i][j-2][k+1] + 1)/2*b + min_y)\n",
    "                point1_2 = ((recon_D[i][j-1][k] + 1)/2*a + min_x , (recon_D[i][j-1][k+1] + 1)/2*b + min_y)\n",
    "                point1_3 = ((recon_D[i][j][k] + 1)/2*a + min_x , (recon_D[i][j][k+1] + 1)/2*b + min_y)\n",
    "                                   \n",
    "                point2_1 = ((D_data[i][j-2][k] + 1)/2*a + min_x, (D_data[i][j-2][k+1] + 1)/2*b + min_y)\n",
    "                point2_2 = ((D_data[i][j-1][k] + 1)/2*a + min_x, (D_data[i][j-1][k+1] + 1)/2*b + min_y)\n",
    "                point2_3 = ((D_data[i][j][k] + 1)/2*a + min_x, (D_data[i][j][k+1] + 1)/2*b + min_y)\n",
    "                                   \n",
    "                gen_v2 = math.dist(point1_2, point1_3)\n",
    "                gen_v1 = math.dist(point1_1, point1_2)\n",
    "                real_v2 = math.dist(point2_2, point2_3)\n",
    "                real_v1 = math.dist(point2_1, point2_2)\n",
    "                error[int(j/10)] = error[int(j/10)] + ((gen_v2 - gen_v1) - (real_v2 - real_v1))/50000"
   ]
  },
  {
   "cell_type": "code",
   "execution_count": 73,
   "metadata": {},
   "outputs": [
    {
     "name": "stdout",
     "output_type": "stream",
     "text": [
      "[-0.0022647285796812155, 0.005453971191502668, 0.0008633322955189047, -0.0008834199686671679, -0.028390142472501986]\n",
      "-0.00504419750676576\n"
     ]
    }
   ],
   "source": [
    "print(error)\n",
    "print(np.sum(error)/5)"
   ]
  },
  {
   "cell_type": "code",
   "execution_count": 70,
   "metadata": {},
   "outputs": [],
   "source": [
    "import math\n",
    "error = [0] * 5\n",
    "for i in range(1000):\n",
    "    for j in range(50):\n",
    "        for k in range(0,10,2):\n",
    "            if(j != 0):\n",
    "                point1_1 = ((recon_D[i][j-1][k] + 1)/2*a + min_x , (recon_D[i][j-1][k+1] + 1)/2*b + min_y)\n",
    "                point1_2 = ((recon_D[i][j][k] + 1)/2*a + min_x , (recon_D[i][j][k+1] + 1)/2*b + min_y)\n",
    "                point2_1 = ((D_data[i][j-1][k] + 1)/2*a + min_x, (D_data[i][j-1][k+1] + 1)/2*b + min_y)\n",
    "                point2_2 = ((D_data[i][j][k] + 1)/2*a + min_x, (D_data[i][j][k+1] + 1)/2*b + min_y)\n",
    "                gen_v = math.dist(point1_1, point1_2)\n",
    "                real_v = math.dist(point2_1, point2_2)\n",
    "                error[int(j/10)] = error[int(j/10)] + (gen_v - real_v)/50000"
   ]
  },
  {
   "cell_type": "code",
   "execution_count": 71,
   "metadata": {},
   "outputs": [
    {
     "name": "stdout",
     "output_type": "stream",
     "text": [
      "[0.1946131537484685, 0.025624375859501617, 0.04963546662236142, 0.023586267552750288, -0.10322282217939634]\n",
      "0.038047288320737095\n"
     ]
    }
   ],
   "source": [
    "print(error)\n",
    "print(np.sum(error)/5)"
   ]
  },
  {
   "cell_type": "code",
   "execution_count": 68,
   "metadata": {},
   "outputs": [],
   "source": [
    "import math\n",
    "error = [0] * 5\n",
    "for i in range(1000):\n",
    "    for j in range(50):\n",
    "        for k in range(0,10,2):\n",
    "            point1 = ((recon_D[i][j][k] + 1)/2*a + min_x , (recon_D[i][j][k+1] + 1)/2*b + min_y)\n",
    "            point2 = ((D_data[i][j][k] + 1)/2*a + min_x, (D_data[i][j][k+1] + 1)/2*b + min_y)\n",
    "            error[int(j/10)] = error[int(j/10)] + (math.dist(point1, point2)/50000)"
   ]
  },
  {
   "cell_type": "code",
   "execution_count": 69,
   "metadata": {},
   "outputs": [
    {
     "name": "stdout",
     "output_type": "stream",
     "text": [
      "[3.702804050805214, 3.2256696810348506, 3.316891785136617, 3.7365578394980266, 4.17958749534557]\n",
      "3.6323021703640554\n"
     ]
    }
   ],
   "source": [
    "print(error)\n",
    "print(np.sum(error)/5)"
   ]
  },
  {
   "cell_type": "markdown",
   "metadata": {},
   "source": [
    "# Main - Latent Unsupervised Clustering"
   ]
  },
  {
   "cell_type": "code",
   "execution_count": 173,
   "metadata": {},
   "outputs": [],
   "source": [
    "X = np.array(X)\n",
    "X = np.transpose(X,(1,0,2))\n",
    "X = X.reshape(-1,1024)"
   ]
  },
  {
   "cell_type": "code",
   "execution_count": 175,
   "metadata": {},
   "outputs": [
    {
     "data": {
      "text/plain": [
       "array([5, 2, 0, 0, 4, 4, 7, 6, 7, 6, 5, 3, 5, 8, 9, 5, 0, 4, 8, 6, 4, 6,\n",
       "       4, 5, 4, 2, 1, 2, 1, 3, 2, 0, 9, 1, 6, 4, 3, 3, 3, 0, 3, 6, 1, 1,\n",
       "       0, 6, 9, 0, 6, 8, 5, 4, 6, 0, 4, 5, 2, 0, 9, 2, 0, 3, 5, 4, 1, 0,\n",
       "       7, 6, 3, 9, 0, 8, 7, 4, 2, 5, 7, 2, 2, 2, 9, 7, 2, 2, 9, 0, 2, 1,\n",
       "       8, 5, 0, 4, 5, 5, 6, 1, 3, 2, 3, 0, 1, 9, 6, 4, 5, 1, 8],\n",
       "      dtype=int32)"
      ]
     },
     "execution_count": 175,
     "metadata": {},
     "output_type": "execute_result"
    }
   ],
   "source": [
    "X_norm_train = X[0:107]\n",
    "kmeans = KMeans(n_clusters=10, random_state=0).fit(X_norm_train)\n",
    "output = kmeans.predict(X)\n",
    "kmeans.labels_"
   ]
  },
  {
   "cell_type": "code",
   "execution_count": 176,
   "metadata": {
    "scrolled": true
   },
   "outputs": [
    {
     "data": {
      "text/plain": [
       "array([4, 5, 2, 2, 7, 7, 9, 6, 9, 0, 4, 6, 4, 3, 1, 4, 2, 7, 3, 0, 7, 0,\n",
       "       7, 4, 7, 5, 8, 5, 8, 6, 5, 2, 1, 8, 0, 7, 6, 6, 6, 2, 6, 0, 8, 8,\n",
       "       2, 0, 1, 2, 0, 3, 8, 7, 0, 2, 2, 4, 5, 2, 1, 5, 2, 6, 4, 7, 8, 2,\n",
       "       9, 0, 6, 1, 2, 3, 9, 7, 5, 4, 9, 5, 5, 5, 1, 9, 5, 5, 1, 2, 5, 8,\n",
       "       3, 8, 2, 7, 4, 4, 0, 8, 6, 5, 6, 2, 8, 1, 0, 7, 4, 8, 3],\n",
       "      dtype=int32)"
      ]
     },
     "execution_count": 176,
     "metadata": {},
     "output_type": "execute_result"
    }
   ],
   "source": [
    "Category_train"
   ]
  },
  {
   "cell_type": "code",
   "execution_count": 177,
   "metadata": {
    "executionInfo": {
     "elapsed": 268,
     "status": "ok",
     "timestamp": 1628009963306,
     "user": {
      "displayName": "趙仰生",
      "photoUrl": "https://lh3.googleusercontent.com/a-/AOh14GiyPpyNRma6KPgIkasnLrkJdAyUt6KrCPhbboIBAg=s64",
      "userId": "00937645575279213956"
     },
     "user_tz": -480
    },
    "id": "___zIgjO8M81"
   },
   "outputs": [],
   "source": [
    "relabel_train = np.choose(kmeans.labels_,[2,8,5,6,7,4,0,9,3,1]).astype(np.int32)\n",
    "relabel_all = np.choose(output,[2,8,5,6,7,4,0,9,3,1]).astype(np.int32)"
   ]
  },
  {
   "cell_type": "code",
   "execution_count": 178,
   "metadata": {
    "colab": {
     "base_uri": "https://localhost:8080/"
    },
    "executionInfo": {
     "elapsed": 270,
     "status": "ok",
     "timestamp": 1628010196376,
     "user": {
      "displayName": "趙仰生",
      "photoUrl": "https://lh3.googleusercontent.com/a-/AOh14GiyPpyNRma6KPgIkasnLrkJdAyUt6KrCPhbboIBAg=s64",
      "userId": "00937645575279213956"
     },
     "user_tz": -480
    },
    "id": "hBE1SsZB8Oop",
    "outputId": "1efacfe6-bc7a-4b6a-dbea-f3e2ec531367"
   },
   "outputs": [
    {
     "name": "stdout",
     "output_type": "stream",
     "text": [
      "Training Acc:  0.9626168224299065\n",
      "All Acc:  0.9701492537313433\n",
      "Testing Acc:  1.0\n"
     ]
    }
   ],
   "source": [
    "train_cnt = 0\n",
    "for i in range(107):\n",
    "    if(relabel_train[i] == Category_train[i]):\n",
    "        train_cnt += 1\n",
    "print(\"Training Acc: \", train_cnt/107)\n",
    "\n",
    "all_cnt = 0\n",
    "for i in range(134):\n",
    "    if(relabel_all[i] == Category_tmp[i]):\n",
    "        all_cnt += 1\n",
    "print(\"All Acc: \", all_cnt/134)\n",
    "\n",
    "print(\"Testing Acc: \", (all_cnt - train_cnt)/(134 - 107))"
   ]
  },
  {
   "cell_type": "markdown",
   "metadata": {},
   "source": [
    "# Main - TSNE Visualization"
   ]
  },
  {
   "cell_type": "code",
   "execution_count": 180,
   "metadata": {},
   "outputs": [
    {
     "name": "stdout",
     "output_type": "stream",
     "text": [
      "[t-SNE] Computing 91 nearest neighbors...\n",
      "[t-SNE] Indexed 134 samples in 0.000s...\n",
      "[t-SNE] Computed neighbors for 134 samples in 0.003s...\n",
      "[t-SNE] Computed conditional probabilities for sample 134 / 134\n",
      "[t-SNE] Mean sigma: 0.290402\n",
      "[t-SNE] KL divergence after 250 iterations with early exaggeration: 56.924839\n",
      "[t-SNE] KL divergence after 850 iterations: 0.131176\n"
     ]
    }
   ],
   "source": [
    "#X_shuffled,y_shuffled = shuffle(X, Category_train, random_state=0)\n",
    "X_tsne = manifold.TSNE(n_components=2, init='random', random_state=0, verbose=1, perplexity=30).fit_transform(X)\n",
    "x_min, x_max = X_tsne.min(0), X_tsne.max(0)\n",
    "X_norm = (X_tsne - x_min) / (x_max - x_min)\n",
    "# X_norm_test = X_norm[0:134]\n",
    "# X_norm_train = X_norm[134:-1]"
   ]
  },
  {
   "cell_type": "code",
   "execution_count": 182,
   "metadata": {
    "colab": {
     "base_uri": "https://localhost:8080/",
     "height": 598
    },
    "executionInfo": {
     "elapsed": 1055,
     "status": "ok",
     "timestamp": 1628009772394,
     "user": {
      "displayName": "趙仰生",
      "photoUrl": "https://lh3.googleusercontent.com/a-/AOh14GiyPpyNRma6KPgIkasnLrkJdAyUt6KrCPhbboIBAg=s64",
      "userId": "00937645575279213956"
     },
     "user_tz": -480
    },
    "id": "I_V7xOTYJ2g3",
    "outputId": "e4e32a6e-4a8d-4d4e-e755-203ff86c79d3"
   },
   "outputs": [
    {
     "data": {
      "image/png": "[encoded data removed]",
      "text/plain": [
       "<Figure size 432x432 with 1 Axes>"
      ]
     },
     "metadata": {
      "needs_background": "light"
     },
     "output_type": "display_data"
    }
   ],
   "source": [
    "x_min, x_max = X_tsne.min(0), X_tsne.max(0)\n",
    "X_norm = (X_tsne - x_min) / (x_max - x_min)  #Normalize\n",
    "#fig_save = plt.figure(figsize=(8, 8))\n",
    "fig_save = plt.figure(figsize=(6, 6))\n",
    "frame1 = plt.gca()\n",
    "frame1.axes.get_xaxis().set_visible(False)\n",
    "frame1.axes.get_yaxis().set_visible(False)\n",
    "#ax = fig_save.add_subplot(projection='3d')\n",
    "for i in range(0,134):\n",
    "    #plt.scatter(X_norm[i, 0], X_norm[i, 1], color=\"gray\",alpha=0.3)\n",
    "#     c = \"gray\"\n",
    "    c = plt.cm.Set1(int(Category_tmp[i]))\n",
    "    plt.text(X_norm[i, 0], X_norm[i, 1],str(int(Category_tmp[i])), color=c, \n",
    "             fontdict={'weight': 'bold', 'size': 9},alpha=1)\n",
    "# for i in range(1394,1528):\n",
    "#     if(int(Category_tmp[i-1394]) == 8):\n",
    "#         c = \"navy\"\n",
    "#     elif(int(Category_tmp[i-1394]) == 9):\n",
    "#         c = \"teal\"\n",
    "#     else:\n",
    "#         c = plt.cm.Set1(int(Category_tmp[i-1394]))\n",
    "#     plt.text(X_norm[i, 0], X_norm[i, 1],str(int(Category_tmp[i-1394])), color=c, \n",
    "#              fontdict={'weight': 'bold', 'size': 9})\n",
    "plt.show()\n",
    "fig_save.savefig(\"new_latent_thesis.jpg\")"
   ]
  },
  {
   "cell_type": "code",
   "execution_count": null,
   "metadata": {},
   "outputs": [],
   "source": []
  }
 ],
 "metadata": {
  "accelerator": "GPU",
  "colab": {
   "collapsed_sections": [],
   "name": "Tactic.ipynb",
   "provenance": []
  },
  "kernelspec": {
   "display_name": "Python 3",
   "language": "python",
   "name": "python3"
  },
  "language_info": {
   "codemirror_mode": {
    "name": "ipython",
    "version": 3
   },
   "file_extension": ".py",
   "mimetype": "text/x-python",
   "name": "python",
   "nbconvert_exporter": "python",
   "pygments_lexer": "ipython3",
   "version": "3.8.5"
  }
 },
 "nbformat": 4,
 "nbformat_minor": 1
}
